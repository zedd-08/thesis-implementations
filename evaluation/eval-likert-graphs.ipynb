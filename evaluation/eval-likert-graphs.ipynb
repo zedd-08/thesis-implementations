{
 "cells": [
  {
   "cell_type": "code",
   "execution_count": 2,
   "metadata": {},
   "outputs": [],
   "source": [
    "\n",
    "import json\n",
    "\n",
    "import plot_likert\n",
    "import pandas as pd\n",
    "import numpy as np\n",
    "import matplotlib.pyplot as plt"
   ]
  },
  {
   "cell_type": "code",
   "execution_count": 15,
   "metadata": {},
   "outputs": [],
   "source": [
    "results_file = 'survey_results.json'\n",
    "with open(results_file, 'r') as results_f:\n",
    "\tresults = json.load(results_f)"
   ]
  },
  {
   "cell_type": "code",
   "execution_count": 16,
   "metadata": {},
   "outputs": [],
   "source": [
    "kg_quests = 0\n",
    "no_kg_quests = 0\n",
    "similar = 0\n",
    "\n",
    "for k, v in results.items():\n",
    "\tsimilar += v['pick_counts']['similar']\n",
    "\tkg_quests += v['pick_counts']['kg']\n",
    "\tno_kg_quests += v['pick_counts']['no_kg']\n",
    " \n",
    "total = kg_quests + no_kg_quests + similar"
   ]
  },
  {
   "cell_type": "code",
   "execution_count": 40,
   "metadata": {},
   "outputs": [
    {
     "name": "stdout",
     "output_type": "stream",
     "text": [
      "KG quests pick count:\t\t|\t 146\n",
      "No KG quests pick count:\t|\t 37\n",
      "\"Both Similar\" pick count:\t|\t 37\n",
      "--------------------------------|-------------\n",
      "Total num of quests:\t\t|\t 220\n"
     ]
    }
   ],
   "source": [
    "print('KG quests pick count:\\t\\t|\\t', kg_quests)\n",
    "print('No KG quests pick count:\\t|\\t', no_kg_quests)\n",
    "print('\"Both Similar\" pick count:\\t|\\t', similar)\n",
    "print('--------------------------------|-------------')\n",
    "print('Total num of quests:\\t\\t|\\t', total)"
   ]
  },
  {
   "cell_type": "code",
   "execution_count": 46,
   "metadata": {},
   "outputs": [],
   "source": [
    "columns = ['Relatedness', 'Contradiction', 'Coherence', 'Value']\n",
    "questions_arr = list(results.keys())\n",
    "\n",
    "likert_mapping = {\n",
    "    'Strongly Agree': plot_likert.scales.agree[4],\n",
    "    'Agree': plot_likert.scales.agree[3],\n",
    "    'Neutral': plot_likert.scales.agree[2],\n",
    "    'Disagree': plot_likert.scales.agree[1],\n",
    "    'Strongly Disagree': plot_likert.scales.agree[0]\n",
    "}\n",
    "\n",
    "likert_values = ['Strongly disagree', 'Disagree', 'Neutral', 'Agree', 'Strongly agree' ]\n",
    "\n",
    "likert_value_mapping = {\n",
    "    'Strongly Agree': 2,\n",
    "    'Agree': 1,\n",
    "    'Neutral': 0,\n",
    "    'Disagree': -1,\n",
    "    'Strongly Disagree': -2\n",
    "}"
   ]
  },
  {
   "cell_type": "code",
   "execution_count": 3,
   "metadata": {},
   "outputs": [
    {
     "data": {
      "text/html": [
       "<div>\n",
       "<style scoped>\n",
       "    .dataframe tbody tr th:only-of-type {\n",
       "        vertical-align: middle;\n",
       "    }\n",
       "\n",
       "    .dataframe tbody tr th {\n",
       "        vertical-align: top;\n",
       "    }\n",
       "\n",
       "    .dataframe thead th {\n",
       "        text-align: right;\n",
       "    }\n",
       "</style>\n",
       "<table border=\"1\" class=\"dataframe\">\n",
       "  <thead>\n",
       "    <tr style=\"text-align: right;\">\n",
       "      <th></th>\n",
       "      <th>Relatedness</th>\n",
       "      <th>Contradiction</th>\n",
       "      <th>Coherence</th>\n",
       "      <th>Value</th>\n",
       "    </tr>\n",
       "  </thead>\n",
       "  <tbody>\n",
       "    <tr>\n",
       "      <th>0</th>\n",
       "      <td>Strongly agree</td>\n",
       "      <td>Strongly disagree</td>\n",
       "      <td>Strongly agree</td>\n",
       "      <td>Strongly agree</td>\n",
       "    </tr>\n",
       "    <tr>\n",
       "      <th>1</th>\n",
       "      <td>Agree</td>\n",
       "      <td>Agree</td>\n",
       "      <td>Disagree</td>\n",
       "      <td>Neutral</td>\n",
       "    </tr>\n",
       "    <tr>\n",
       "      <th>2</th>\n",
       "      <td>Agree</td>\n",
       "      <td>Disagree</td>\n",
       "      <td>Disagree</td>\n",
       "      <td>Neutral</td>\n",
       "    </tr>\n",
       "    <tr>\n",
       "      <th>3</th>\n",
       "      <td>Strongly agree</td>\n",
       "      <td>Strongly disagree</td>\n",
       "      <td>Agree</td>\n",
       "      <td>Strongly agree</td>\n",
       "    </tr>\n",
       "    <tr>\n",
       "      <th>4</th>\n",
       "      <td>Strongly agree</td>\n",
       "      <td>Strongly disagree</td>\n",
       "      <td>Strongly agree</td>\n",
       "      <td>Strongly agree</td>\n",
       "    </tr>\n",
       "    <tr>\n",
       "      <th>...</th>\n",
       "      <td>...</td>\n",
       "      <td>...</td>\n",
       "      <td>...</td>\n",
       "      <td>...</td>\n",
       "    </tr>\n",
       "    <tr>\n",
       "      <th>215</th>\n",
       "      <td>Strongly agree</td>\n",
       "      <td>Strongly disagree</td>\n",
       "      <td>Agree</td>\n",
       "      <td>Agree</td>\n",
       "    </tr>\n",
       "    <tr>\n",
       "      <th>216</th>\n",
       "      <td>Strongly agree</td>\n",
       "      <td>Strongly disagree</td>\n",
       "      <td>Strongly agree</td>\n",
       "      <td>Strongly agree</td>\n",
       "    </tr>\n",
       "    <tr>\n",
       "      <th>217</th>\n",
       "      <td>Strongly agree</td>\n",
       "      <td>Strongly disagree</td>\n",
       "      <td>Strongly agree</td>\n",
       "      <td>Strongly agree</td>\n",
       "    </tr>\n",
       "    <tr>\n",
       "      <th>218</th>\n",
       "      <td>Agree</td>\n",
       "      <td>Disagree</td>\n",
       "      <td>Agree</td>\n",
       "      <td>Agree</td>\n",
       "    </tr>\n",
       "    <tr>\n",
       "      <th>219</th>\n",
       "      <td>Strongly agree</td>\n",
       "      <td>Neutral</td>\n",
       "      <td>Disagree</td>\n",
       "      <td>Neutral</td>\n",
       "    </tr>\n",
       "  </tbody>\n",
       "</table>\n",
       "<p>220 rows × 4 columns</p>\n",
       "</div>"
      ],
      "text/plain": [
       "        Relatedness      Contradiction       Coherence           Value\n",
       "0    Strongly agree  Strongly disagree  Strongly agree  Strongly agree\n",
       "1             Agree              Agree        Disagree         Neutral\n",
       "2             Agree           Disagree        Disagree         Neutral\n",
       "3    Strongly agree  Strongly disagree           Agree  Strongly agree\n",
       "4    Strongly agree  Strongly disagree  Strongly agree  Strongly agree\n",
       "..              ...                ...             ...             ...\n",
       "215  Strongly agree  Strongly disagree           Agree           Agree\n",
       "216  Strongly agree  Strongly disagree  Strongly agree  Strongly agree\n",
       "217  Strongly agree  Strongly disagree  Strongly agree  Strongly agree\n",
       "218           Agree           Disagree           Agree           Agree\n",
       "219  Strongly agree            Neutral        Disagree         Neutral\n",
       "\n",
       "[220 rows x 4 columns]"
      ]
     },
     "execution_count": 3,
     "metadata": {},
     "output_type": "execute_result"
    }
   ],
   "source": [
    "kg_data = pd.read_csv('kg_outputs.tsv', sep='\\t')\n",
    "kg_data"
   ]
  },
  {
   "cell_type": "code",
   "execution_count": 10,
   "metadata": {},
   "outputs": [
    {
     "name": "stdout",
     "output_type": "stream",
     "text": [
      "Relatedness\n",
      "Strongly agree       119\n",
      "Agree                 69\n",
      "Disagree              18\n",
      "Neutral               12\n",
      "Strongly disagree      2\n",
      "Name: count, dtype: int64 \n",
      "\n",
      "Contradiction\n",
      "Strongly disagree    85\n",
      "Disagree             62\n",
      "Agree                33\n",
      "Neutral              28\n",
      "Strongly agree       12\n",
      "Name: count, dtype: int64 \n",
      "\n",
      "Coherence\n",
      "Strongly agree       79\n",
      "Agree                78\n",
      "Disagree             41\n",
      "Neutral              17\n",
      "Strongly disagree     5\n",
      "Name: count, dtype: int64 \n",
      "\n",
      "Value\n",
      "Strongly agree       89\n",
      "Agree                82\n",
      "Neutral              28\n",
      "Disagree             17\n",
      "Strongly disagree     4\n",
      "Name: count, dtype: int64 \n",
      "\n"
     ]
    }
   ],
   "source": [
    "for column in kg_data.columns:\n",
    "    print(kg_data[column].value_counts(), '\\n')"
   ]
  },
  {
   "cell_type": "code",
   "execution_count": null,
   "metadata": {},
   "outputs": [],
   "source": [
    "print('KG Relatedness Average: ', kg_rel_avg)\n",
    "print('KG Contradiction Average: ', kg_cont_avg)\n",
    "print('KG Coherence Average: ', kg_coh_avg)\n",
    "print('KG Value Average: ', kg_val_avg)"
   ]
  },
  {
   "cell_type": "code",
   "execution_count": 47,
   "metadata": {},
   "outputs": [
    {
     "data": {
      "text/plain": [
       "<Axes: xlabel='Number of Responses'>"
      ]
     },
     "execution_count": 47,
     "metadata": {},
     "output_type": "execute_result"
    },
    {
     "data": {
      "image/png": "[encoded data removed]",
      "text/plain": [
       "<Figure size 1000x400 with 1 Axes>"
      ]
     },
     "metadata": {},
     "output_type": "display_data"
    }
   ],
   "source": [
    "plot_likert.plot_likert(kg_data, likert_values,\n",
    "    bar_labels=True, bar_labels_color=\"snow\", colors=plot_likert.colors.default_with_darker_neutral, figsize=(10,4))"
   ]
  },
  {
   "cell_type": "code",
   "execution_count": 12,
   "metadata": {},
   "outputs": [
    {
     "data": {
      "text/html": [
       "<div>\n",
       "<style scoped>\n",
       "    .dataframe tbody tr th:only-of-type {\n",
       "        vertical-align: middle;\n",
       "    }\n",
       "\n",
       "    .dataframe tbody tr th {\n",
       "        vertical-align: top;\n",
       "    }\n",
       "\n",
       "    .dataframe thead th {\n",
       "        text-align: right;\n",
       "    }\n",
       "</style>\n",
       "<table border=\"1\" class=\"dataframe\">\n",
       "  <thead>\n",
       "    <tr style=\"text-align: right;\">\n",
       "      <th></th>\n",
       "      <th>Relatedness</th>\n",
       "      <th>Contradiction</th>\n",
       "      <th>Coherence</th>\n",
       "      <th>Value</th>\n",
       "    </tr>\n",
       "  </thead>\n",
       "  <tbody>\n",
       "    <tr>\n",
       "      <th>0</th>\n",
       "      <td>Disagree</td>\n",
       "      <td>Strongly agree</td>\n",
       "      <td>Disagree</td>\n",
       "      <td>Disagree</td>\n",
       "    </tr>\n",
       "    <tr>\n",
       "      <th>1</th>\n",
       "      <td>Strongly agree</td>\n",
       "      <td>Strongly disagree</td>\n",
       "      <td>Agree</td>\n",
       "      <td>Agree</td>\n",
       "    </tr>\n",
       "    <tr>\n",
       "      <th>2</th>\n",
       "      <td>Agree</td>\n",
       "      <td>Disagree</td>\n",
       "      <td>Agree</td>\n",
       "      <td>Neutral</td>\n",
       "    </tr>\n",
       "    <tr>\n",
       "      <th>3</th>\n",
       "      <td>Strongly agree</td>\n",
       "      <td>Strongly disagree</td>\n",
       "      <td>Strongly agree</td>\n",
       "      <td>Strongly agree</td>\n",
       "    </tr>\n",
       "    <tr>\n",
       "      <th>4</th>\n",
       "      <td>Strongly agree</td>\n",
       "      <td>Disagree</td>\n",
       "      <td>Strongly agree</td>\n",
       "      <td>Agree</td>\n",
       "    </tr>\n",
       "    <tr>\n",
       "      <th>...</th>\n",
       "      <td>...</td>\n",
       "      <td>...</td>\n",
       "      <td>...</td>\n",
       "      <td>...</td>\n",
       "    </tr>\n",
       "    <tr>\n",
       "      <th>215</th>\n",
       "      <td>Disagree</td>\n",
       "      <td>Strongly agree</td>\n",
       "      <td>Strongly disagree</td>\n",
       "      <td>Disagree</td>\n",
       "    </tr>\n",
       "    <tr>\n",
       "      <th>216</th>\n",
       "      <td>Disagree</td>\n",
       "      <td>Agree</td>\n",
       "      <td>Disagree</td>\n",
       "      <td>Disagree</td>\n",
       "    </tr>\n",
       "    <tr>\n",
       "      <th>217</th>\n",
       "      <td>Strongly agree</td>\n",
       "      <td>Disagree</td>\n",
       "      <td>Neutral</td>\n",
       "      <td>Agree</td>\n",
       "    </tr>\n",
       "    <tr>\n",
       "      <th>218</th>\n",
       "      <td>Neutral</td>\n",
       "      <td>Neutral</td>\n",
       "      <td>Neutral</td>\n",
       "      <td>Neutral</td>\n",
       "    </tr>\n",
       "    <tr>\n",
       "      <th>219</th>\n",
       "      <td>Agree</td>\n",
       "      <td>Strongly agree</td>\n",
       "      <td>Strongly agree</td>\n",
       "      <td>Strongly disagree</td>\n",
       "    </tr>\n",
       "  </tbody>\n",
       "</table>\n",
       "<p>220 rows × 4 columns</p>\n",
       "</div>"
      ],
      "text/plain": [
       "        Relatedness      Contradiction          Coherence              Value\n",
       "0          Disagree     Strongly agree           Disagree           Disagree\n",
       "1    Strongly agree  Strongly disagree              Agree              Agree\n",
       "2             Agree           Disagree              Agree            Neutral\n",
       "3    Strongly agree  Strongly disagree     Strongly agree     Strongly agree\n",
       "4    Strongly agree           Disagree     Strongly agree              Agree\n",
       "..              ...                ...                ...                ...\n",
       "215        Disagree     Strongly agree  Strongly disagree           Disagree\n",
       "216        Disagree              Agree           Disagree           Disagree\n",
       "217  Strongly agree           Disagree            Neutral              Agree\n",
       "218         Neutral            Neutral            Neutral            Neutral\n",
       "219           Agree     Strongly agree     Strongly agree  Strongly disagree\n",
       "\n",
       "[220 rows x 4 columns]"
      ]
     },
     "execution_count": 12,
     "metadata": {},
     "output_type": "execute_result"
    }
   ],
   "source": [
    "no_kg_data = pd.read_csv('no_kg_outputs.tsv', sep='\\t')\n",
    "no_kg_data"
   ]
  },
  {
   "cell_type": "code",
   "execution_count": 49,
   "metadata": {},
   "outputs": [
    {
     "name": "stdout",
     "output_type": "stream",
     "text": [
      "No KG Relatedness Average:  0.41818181818181815\n",
      "No KG Contradiction Average:  0.36818181818181817\n",
      "No KG Coherence Average:  -0.33181818181818185\n",
      "No KG Value Average:  -0.18636363636363637\n"
     ]
    }
   ],
   "source": [
    "print('No KG Relatedness Average: ', no_kg_rel_avg)\n",
    "print('No KG Contradiction Average: ', no_kg_cont_avg)\n",
    "print('No KG Coherence Average: ', no_kg_coh_avg)\n",
    "print('No KG Value Average: ', no_kg_val_avg)"
   ]
  },
  {
   "cell_type": "code",
   "execution_count": 13,
   "metadata": {},
   "outputs": [
    {
     "name": "stdout",
     "output_type": "stream",
     "text": [
      "Relatedness\n",
      "Agree                90\n",
      "Strongly agree       42\n",
      "Disagree             36\n",
      "Neutral              29\n",
      "Strongly disagree    23\n",
      "Name: count, dtype: int64 \n",
      "\n",
      "Contradiction\n",
      "Agree                62\n",
      "Strongly agree       51\n",
      "Disagree             49\n",
      "Neutral              41\n",
      "Strongly disagree    17\n",
      "Name: count, dtype: int64 \n",
      "\n",
      "Coherence\n",
      "Disagree             74\n",
      "Agree                43\n",
      "Strongly disagree    42\n",
      "Neutral              40\n",
      "Strongly agree       21\n",
      "Name: count, dtype: int64 \n",
      "\n",
      "Value\n",
      "Disagree             63\n",
      "Agree                48\n",
      "Neutral              44\n",
      "Strongly disagree    39\n",
      "Strongly agree       26\n",
      "Name: count, dtype: int64 \n",
      "\n"
     ]
    }
   ],
   "source": [
    "for column in no_kg_data.columns:\n",
    "    print(no_kg_data[column].value_counts(), '\\n')"
   ]
  },
  {
   "cell_type": "code",
   "execution_count": 50,
   "metadata": {},
   "outputs": [
    {
     "name": "stderr",
     "output_type": "stream",
     "text": [
      "/home/manish/miniconda3/envs/data_expl/lib/python3.11/site-packages/plot_likert/plot_likert.py:257: FutureWarning: DataFrame.applymap has been deprecated. Use DataFrame.map instead.\n",
      "  df.applymap(validate)\n"
     ]
    },
    {
     "data": {
      "text/plain": [
       "<Axes: xlabel='Number of Responses'>"
      ]
     },
     "execution_count": 50,
     "metadata": {},
     "output_type": "execute_result"
    },
    {
     "data": {
      "image/png": "[encoded data removed]",
      "text/plain": [
       "<Figure size 1000x400 with 1 Axes>"
      ]
     },
     "metadata": {},
     "output_type": "display_data"
    }
   ],
   "source": [
    "plot_likert.plot_likert(no_kg_data, likert_values,\n",
    "    bar_labels=True, bar_labels_color=\"snow\", colors=plot_likert.colors.default_with_darker_neutral, figsize=(10,4))"
   ]
  }
 ],
 "metadata": {
  "kernelspec": {
   "display_name": "data_expl",
   "language": "python",
   "name": "data_expl"
  },
  "language_info": {
   "codemirror_mode": {
    "name": "ipython",
    "version": 3
   },
   "file_extension": ".py",
   "mimetype": "text/x-python",
   "name": "python",
   "nbconvert_exporter": "python",
   "pygments_lexer": "ipython3",
   "version": "3.11.5"
  }
 },
 "nbformat": 4,
 "nbformat_minor": 2
}
