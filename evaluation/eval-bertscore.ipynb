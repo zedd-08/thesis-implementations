{
 "cells": [
  {
   "cell_type": "code",
   "execution_count": 1,
   "metadata": {},
   "outputs": [],
   "source": [
    "import os\n",
    "import json\n",
    "import pandas as pd\n",
    "import numpy as np"
   ]
  },
  {
   "cell_type": "code",
   "execution_count": 2,
   "metadata": {},
   "outputs": [],
   "source": [
    "no_kg_outputs = 'outputs/no_kg_results.jsonl'\n",
    "text_kg_outputs = 'outputs/text_kg_results.jsonl'\n",
    "text_kg_1_outputs = 'outputs/text_kg_1_results.jsonl'\n",
    "text_kg_2_outputs = 'outputs/text_kg_2_results.jsonl'"
   ]
  },
  {
   "cell_type": "code",
   "execution_count": 3,
   "metadata": {},
   "outputs": [],
   "source": [
    "all_results = []"
   ]
  },
  {
   "cell_type": "code",
   "execution_count": 4,
   "metadata": {},
   "outputs": [],
   "source": [
    "with open(no_kg_outputs, 'r') as f:\n",
    "\tno_kg_results = [json.loads(line) for line in f.readlines()]\n",
    "with open(text_kg_outputs, 'r') as f:\n",
    "\ttext_kg_results = [json.loads(line) for line in f.readlines()]\n",
    "with open(text_kg_1_outputs, 'r') as f:\n",
    "\ttext_kg_1_results = [json.loads(line) for line in f.readlines()]\n",
    "with open(text_kg_2_outputs, 'r') as f:\n",
    "\ttext_kg_2_results = [json.loads(line) for line in f.readlines()]\n",
    "with open('/home/jovyan/manish-thesis/thesis-implementations/quest_generation/llama2/data/val.jsonl', 'r') as f:\n",
    "\tval_set = [json.loads(line) for line in f.readlines()]"
   ]
  },
  {
   "cell_type": "code",
   "execution_count": 5,
   "metadata": {},
   "outputs": [],
   "source": [
    "for no_kg_result, text_kg_result, text_kg_1_result, text_kg_2_result, val in zip(no_kg_results, text_kg_results, text_kg_1_results, text_kg_2_results, val_set):\n",
    "    result = {\n",
    "    \t'desc' : val['quest']['description'],\n",
    "\t\t'game' : val['game'],\n",
    "\t\t'no_kg_input': no_kg_result['input'],\n",
    "\t\t'text_kg_input': text_kg_result['input'],\n",
    "\t\t'no_kg': no_kg_result['output_gen'][:-10][11:],\n",
    "\t\t'text_kg': text_kg_result['output_gen'][:-10][11:],\n",
    "\t\t'text_1_kg': text_kg_1_result['output_gen'][:-10][11:],\n",
    "\t\t'text_2_kg': text_kg_2_result['output_gen'][:-10][11:],\n",
    "  \t\t'actual': no_kg_result['output_actual'][:-10][11:],\n",
    "\t}\n",
    "    all_results.append(result)"
   ]
  },
  {
   "cell_type": "code",
   "execution_count": 6,
   "metadata": {},
   "outputs": [],
   "source": [
    "results_df = pd.DataFrame(all_results)"
   ]
  },
  {
   "cell_type": "code",
   "execution_count": 7,
   "metadata": {},
   "outputs": [
    {
     "data": {
      "text/html": [
       "<div>\n",
       "<style scoped>\n",
       "    .dataframe tbody tr th:only-of-type {\n",
       "        vertical-align: middle;\n",
       "    }\n",
       "\n",
       "    .dataframe tbody tr th {\n",
       "        vertical-align: top;\n",
       "    }\n",
       "\n",
       "    .dataframe thead th {\n",
       "        text-align: right;\n",
       "    }\n",
       "</style>\n",
       "<table border=\"1\" class=\"dataframe\">\n",
       "  <thead>\n",
       "    <tr style=\"text-align: right;\">\n",
       "      <th></th>\n",
       "      <th>desc</th>\n",
       "      <th>game</th>\n",
       "      <th>no_kg_input</th>\n",
       "      <th>text_kg_input</th>\n",
       "      <th>no_kg</th>\n",
       "      <th>text_kg</th>\n",
       "      <th>text_1_kg</th>\n",
       "      <th>text_2_kg</th>\n",
       "      <th>actual</th>\n",
       "    </tr>\n",
       "  </thead>\n",
       "  <tbody>\n",
       "    <tr>\n",
       "      <th>0</th>\n",
       "      <td>Thank you for rescuing me. I had recovered the...</td>\n",
       "      <td>TL2</td>\n",
       "      <td>### Plots:\\nthe player freed Elder Josimon fro...</td>\n",
       "      <td>### Background:\\nElder Josimon is a character....</td>\n",
       "      <td>Title: The passkey ember\\nObjective: Bring eld...</td>\n",
       "      <td>Title: The elder's request\\nObjective: Bring e...</td>\n",
       "      <td>Title: The watchweald portal\\nObjective: Find ...</td>\n",
       "      <td>Title: The ember keys\\nObjective: Find the emb...</td>\n",
       "      <td>Title: Up in smoke\\nObjective: Put the slavers...</td>\n",
       "    </tr>\n",
       "    <tr>\n",
       "      <th>1</th>\n",
       "      <td>Name's Valdr. I hunt out of Falkreath.\\nWe tra...</td>\n",
       "      <td>TESS</td>\n",
       "      <td>### Plots:\\nValdr, Ari and Niels tracked a bea...</td>\n",
       "      <td>### Background:\\nValdr is a character. Valdr i...</td>\n",
       "      <td>Title: The spriggans\\nObjective: Find the spri...</td>\n",
       "      <td>Title: Moss mother cavern\\nObjective: Kill the...</td>\n",
       "      <td>Title: The quest related to the above informat...</td>\n",
       "      <td>Title: The hunt\\nObjective: Help valdr track d...</td>\n",
       "      <td>Title: Moss mother cavern\\nObjective: Help val...</td>\n",
       "    </tr>\n",
       "    <tr>\n",
       "      <th>2</th>\n",
       "      <td>My daughter is gone! I left my home in your ca...</td>\n",
       "      <td>BG2</td>\n",
       "      <td>### Plots:\\nGarren Windspear left his home in ...</td>\n",
       "      <td>### Background:\\nGarren Windspear is a charact...</td>\n",
       "      <td>Title: The windspear daughter\\nObjective: Help...</td>\n",
       "      <td>Title: The windspear family\\nObjective: Rescue...</td>\n",
       "      <td>Title: Garren windspear's daughter\\nObjective:...</td>\n",
       "      <td>Title: The lost daughter\\nObjective: Find garr...</td>\n",
       "      <td>Title: Rescue garren's child from firkraag\\nOb...</td>\n",
       "    </tr>\n",
       "    <tr>\n",
       "      <th>3</th>\n",
       "      <td>You're really going to the Blue Palace? That p...</td>\n",
       "      <td>TESS</td>\n",
       "      <td>### Plots:\\nthe player told Taarie that the pl...</td>\n",
       "      <td>### Background:\\nTaarie is a character. Taarie...</td>\n",
       "      <td>Title: A gift for the queen\\nObjective: Bring ...</td>\n",
       "      <td>Title: The blue palace\\nObjective: Deliver a l...</td>\n",
       "      <td>Title: The blue palace\\nObjective: Give jarl e...</td>\n",
       "      <td>Title: The radiant raiment\\nObjective: Find th...</td>\n",
       "      <td>Title: Fit for a jarl\\nObjective: Promote the ...</td>\n",
       "    </tr>\n",
       "    <tr>\n",
       "      <th>4</th>\n",
       "      <td>Why are you people doing this? Is it informati...</td>\n",
       "      <td>TESS</td>\n",
       "      <td>### Plots:\\nthe player is torturing their pris...</td>\n",
       "      <td>### Background:\\nSolitude is a location. Solit...</td>\n",
       "      <td>Title: The prisoner's inheritance\\nObjective: ...</td>\n",
       "      <td>Title: A secret to die for\\nObjective: Find th...</td>\n",
       "      <td>Title: The heir to the throne\\nObjective: Find...</td>\n",
       "      <td>Title: The hidden inheritance\\nObjective: Find...</td>\n",
       "      <td>Title: The inheritance\\nObjective: Find the hi...</td>\n",
       "    </tr>\n",
       "  </tbody>\n",
       "</table>\n",
       "</div>"
      ],
      "text/plain": [
       "                                                desc  game  \\\n",
       "0  Thank you for rescuing me. I had recovered the...   TL2   \n",
       "1  Name's Valdr. I hunt out of Falkreath.\\nWe tra...  TESS   \n",
       "2  My daughter is gone! I left my home in your ca...   BG2   \n",
       "3  You're really going to the Blue Palace? That p...  TESS   \n",
       "4  Why are you people doing this? Is it informati...  TESS   \n",
       "\n",
       "                                         no_kg_input  \\\n",
       "0  ### Plots:\\nthe player freed Elder Josimon fro...   \n",
       "1  ### Plots:\\nValdr, Ari and Niels tracked a bea...   \n",
       "2  ### Plots:\\nGarren Windspear left his home in ...   \n",
       "3  ### Plots:\\nthe player told Taarie that the pl...   \n",
       "4  ### Plots:\\nthe player is torturing their pris...   \n",
       "\n",
       "                                       text_kg_input  \\\n",
       "0  ### Background:\\nElder Josimon is a character....   \n",
       "1  ### Background:\\nValdr is a character. Valdr i...   \n",
       "2  ### Background:\\nGarren Windspear is a charact...   \n",
       "3  ### Background:\\nTaarie is a character. Taarie...   \n",
       "4  ### Background:\\nSolitude is a location. Solit...   \n",
       "\n",
       "                                               no_kg  \\\n",
       "0  Title: The passkey ember\\nObjective: Bring eld...   \n",
       "1  Title: The spriggans\\nObjective: Find the spri...   \n",
       "2  Title: The windspear daughter\\nObjective: Help...   \n",
       "3  Title: A gift for the queen\\nObjective: Bring ...   \n",
       "4  Title: The prisoner's inheritance\\nObjective: ...   \n",
       "\n",
       "                                             text_kg  \\\n",
       "0  Title: The elder's request\\nObjective: Bring e...   \n",
       "1  Title: Moss mother cavern\\nObjective: Kill the...   \n",
       "2  Title: The windspear family\\nObjective: Rescue...   \n",
       "3  Title: The blue palace\\nObjective: Deliver a l...   \n",
       "4  Title: A secret to die for\\nObjective: Find th...   \n",
       "\n",
       "                                           text_1_kg  \\\n",
       "0  Title: The watchweald portal\\nObjective: Find ...   \n",
       "1  Title: The quest related to the above informat...   \n",
       "2  Title: Garren windspear's daughter\\nObjective:...   \n",
       "3  Title: The blue palace\\nObjective: Give jarl e...   \n",
       "4  Title: The heir to the throne\\nObjective: Find...   \n",
       "\n",
       "                                           text_2_kg  \\\n",
       "0  Title: The ember keys\\nObjective: Find the emb...   \n",
       "1  Title: The hunt\\nObjective: Help valdr track d...   \n",
       "2  Title: The lost daughter\\nObjective: Find garr...   \n",
       "3  Title: The radiant raiment\\nObjective: Find th...   \n",
       "4  Title: The hidden inheritance\\nObjective: Find...   \n",
       "\n",
       "                                              actual  \n",
       "0  Title: Up in smoke\\nObjective: Put the slavers...  \n",
       "1  Title: Moss mother cavern\\nObjective: Help val...  \n",
       "2  Title: Rescue garren's child from firkraag\\nOb...  \n",
       "3  Title: Fit for a jarl\\nObjective: Promote the ...  \n",
       "4  Title: The inheritance\\nObjective: Find the hi...  "
      ]
     },
     "execution_count": 7,
     "metadata": {},
     "output_type": "execute_result"
    }
   ],
   "source": [
    "results_df.head()"
   ]
  },
  {
   "cell_type": "code",
   "execution_count": 8,
   "metadata": {},
   "outputs": [],
   "source": [
    "out_file = os.path.join('outputs', f'all_results.jsonl')\n",
    "with open(out_file, 'w') as outfile:\n",
    "\tfor result in all_results:\n",
    "\t\tjson.dump(result, outfile)\n",
    "\t\toutfile.write('\\n')"
   ]
  },
  {
   "cell_type": "code",
   "execution_count": 9,
   "metadata": {},
   "outputs": [],
   "source": [
    "import bert_score\n",
    "from bert_score import BERTScorer\n",
    "bert_score.__version__\n",
    "\n",
    "import logging\n",
    "import transformers\n",
    "transformers.tokenization_utils.logger.setLevel(logging.ERROR)\n",
    "transformers.configuration_utils.logger.setLevel(logging.ERROR)\n",
    "transformers.modeling_utils.logger.setLevel(logging.ERROR)"
   ]
  },
  {
   "cell_type": "code",
   "execution_count": 10,
   "metadata": {},
   "outputs": [
    {
     "data": {
      "application/vnd.jupyter.widget-view+json": {
       "model_id": "c389b28dea7a4378babba58e7e98c59e",
       "version_major": 2,
       "version_minor": 0
      },
      "text/plain": [
       "Downloading tokenizer_config.json:   0%|          | 0.00/52.0 [00:00<?, ?B/s]"
      ]
     },
     "metadata": {},
     "output_type": "display_data"
    },
    {
     "data": {
      "application/vnd.jupyter.widget-view+json": {
       "model_id": "6125ceb5edda44a49f13fd2aefdbc471",
       "version_major": 2,
       "version_minor": 0
      },
      "text/plain": [
       "Downloading config.json:   0%|          | 0.00/792 [00:00<?, ?B/s]"
      ]
     },
     "metadata": {},
     "output_type": "display_data"
    },
    {
     "data": {
      "application/vnd.jupyter.widget-view+json": {
       "model_id": "808a0b83b13a4996ae178f95231b0bfb",
       "version_major": 2,
       "version_minor": 0
      },
      "text/plain": [
       "Downloading vocab.json:   0%|          | 0.00/899k [00:00<?, ?B/s]"
      ]
     },
     "metadata": {},
     "output_type": "display_data"
    },
    {
     "data": {
      "application/vnd.jupyter.widget-view+json": {
       "model_id": "84f4e612e1e14dd28ef088fed2cdd912",
       "version_major": 2,
       "version_minor": 0
      },
      "text/plain": [
       "Downloading merges.txt:   0%|          | 0.00/456k [00:00<?, ?B/s]"
      ]
     },
     "metadata": {},
     "output_type": "display_data"
    },
    {
     "data": {
      "application/vnd.jupyter.widget-view+json": {
       "model_id": "94e518e87d994985916ade87e7ec52e0",
       "version_major": 2,
       "version_minor": 0
      },
      "text/plain": [
       "Downloading pytorch_model.bin:   0%|          | 0.00/3.04G [00:00<?, ?B/s]"
      ]
     },
     "metadata": {},
     "output_type": "display_data"
    }
   ],
   "source": [
    "scorer = BERTScorer(model_type='microsoft/deberta-xlarge-mnli', lang=\"en\")"
   ]
  },
  {
   "cell_type": "code",
   "execution_count": 11,
   "metadata": {},
   "outputs": [],
   "source": [
    "no_kg_out = [x['no_kg'] for x in all_results]\n",
    "tree_kg_out = [x['text_kg'] for x in all_results]\n",
    "tree_1_kg_out = [x['text_1_kg'] for x in all_results]\n",
    "tree_2_kg_out = [x['text_2_kg'] for x in all_results]\n",
    "actual_out = [x['actual'] for x in all_results]"
   ]
  },
  {
   "cell_type": "code",
   "execution_count": 19,
   "metadata": {},
   "outputs": [],
   "source": [
    "_, _, n_t_F1 = scorer.score(no_kg_out, tree_kg_out)\n",
    "_, _, n_a_F1 = scorer.score(no_kg_out, actual_out)\n",
    "_, _, t_a_F1 = scorer.score(tree_kg_out, actual_out)\n",
    "\n",
    "_, _, n_t1_F1 = scorer.score(no_kg_out, tree_1_kg_out)\n",
    "_, _, n_t2_F1 = scorer.score(no_kg_out, tree_2_kg_out)\n",
    "\n",
    "_, _, t_t1_F1 = scorer.score(tree_kg_out, tree_1_kg_out)\n",
    "_, _, t_t2_F1 = scorer.score(tree_kg_out, tree_2_kg_out)\n",
    "_, _, t1_t2_F1 = scorer.score(tree_1_kg_out, tree_2_kg_out)\n",
    "\n",
    "_, _, t1_a_F1 = scorer.score(tree_1_kg_out, actual_out)\n",
    "_, _, t2_a_F1 = scorer.score(tree_2_kg_out, actual_out)"
   ]
  },
  {
   "cell_type": "code",
   "execution_count": 20,
   "metadata": {},
   "outputs": [],
   "source": [
    "f1_scores_df = pd.DataFrame({'noXtree': n_t_F1,\n",
    "                             'noXactual': n_a_F1,\n",
    "                             'noXtree1': n_t1_F1,\n",
    "                             'noXtree2': n_t2_F1,\n",
    "                             'treeXactual': t_a_F1,\n",
    "                             'treeXtree1': t_t1_F1,\n",
    "                             'treeXtree2': t_t2_F1,\n",
    "                             'tree1Xactual': t1_a_F1,\n",
    "                             'tree2Xactual': t2_a_F1,\n",
    "                            })"
   ]
  },
  {
   "cell_type": "code",
   "execution_count": 21,
   "metadata": {},
   "outputs": [
    {
     "data": {
      "text/plain": [
       "noXtree         0.746450\n",
       "noXactual       0.707393\n",
       "noXtree1        0.730972\n",
       "noXtree2        0.694948\n",
       "treeXactual     0.739215\n",
       "treeXtree1      0.768611\n",
       "treeXtree2      0.699570\n",
       "tree1Xactual    0.727804\n",
       "tree2Xactual    0.676752\n",
       "dtype: float32"
      ]
     },
     "execution_count": 21,
     "metadata": {},
     "output_type": "execute_result"
    }
   ],
   "source": [
    "f1_scores_df.mean()"
   ]
  },
  {
   "cell_type": "code",
   "execution_count": 22,
   "metadata": {},
   "outputs": [
    {
     "data": {
      "text/plain": [
       "noXtree         0.057196\n",
       "noXactual       0.050361\n",
       "noXtree1        0.059993\n",
       "noXtree2        0.090496\n",
       "treeXactual     0.067480\n",
       "treeXtree1      0.071341\n",
       "treeXtree2      0.085722\n",
       "tree1Xactual    0.056882\n",
       "tree2Xactual    0.087490\n",
       "dtype: float32"
      ]
     },
     "execution_count": 22,
     "metadata": {},
     "output_type": "execute_result"
    }
   ],
   "source": [
    "f1_scores_df.std()"
   ]
  },
  {
   "cell_type": "code",
   "execution_count": 24,
   "metadata": {},
   "outputs": [],
   "source": [
    "f1_scores_df.to_csv('all_bertscores.csv', index=False)"
   ]
  }
 ],
 "metadata": {
  "kernelspec": {
   "display_name": "llama2",
   "language": "python",
   "name": "llama2"
  },
  "language_info": {
   "codemirror_mode": {
    "name": "ipython",
    "version": 3
   },
   "file_extension": ".py",
   "mimetype": "text/x-python",
   "name": "python",
   "nbconvert_exporter": "python",
   "pygments_lexer": "ipython3",
   "version": "3.9.18"
  }
 },
 "nbformat": 4,
 "nbformat_minor": 4
}
