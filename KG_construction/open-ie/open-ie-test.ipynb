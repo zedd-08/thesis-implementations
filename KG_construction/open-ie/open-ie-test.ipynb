{
 "cells": [
  {
   "attachments": {},
   "cell_type": "markdown",
   "metadata": {},
   "source": [
    "From https://github.com/philipperemy/stanford-openie-python"
   ]
  },
  {
   "cell_type": "code",
   "execution_count": 1,
   "metadata": {},
   "outputs": [],
   "source": [
    "from openie import StanfordOpenIE"
   ]
  },
  {
   "attachments": {},
   "cell_type": "markdown",
   "metadata": {},
   "source": [
    "[OpenIE API](https://stanfordnlp.github.io/CoreNLP/openie.html#api). Default value of openie.affinity_probability_cap was 1/3. Example IE extraction from the sentences:\n",
    "```\n",
    "Barack Obama was born in Hawaii. Richard Manning wrote this sentence.\n",
    "```"
   ]
  },
  {
   "cell_type": "code",
   "execution_count": 2,
   "metadata": {},
   "outputs": [
    {
     "name": "stdout",
     "output_type": "stream",
     "text": [
      "Downloading from https://nlp.stanford.edu/software/stanford-corenlp-4.5.3.zip.\n",
      "\n",
      "Extracting to /home/manish/.stanfordnlp_resources.\n",
      "Unzip /home/manish/.stanfordnlp_resources/stanford-corenlp-4.5.3.zip.\n",
      "Text: Barack Obama was born in Hawaii. Richard Manning wrote this sentence..\n",
      "Starting server with command: java -Xmx8G -cp /home/manish/.stanfordnlp_resources/stanford-corenlp-4.5.3/* edu.stanford.nlp.pipeline.StanfordCoreNLPServer -port 9000 -timeout 60000 -threads 5 -maxCharLength 100000 -quiet True -serverProperties corenlp_server-60b92527fee74915.props -preload openie\n"
     ]
    },
    {
     "ename": "KeyboardInterrupt",
     "evalue": "",
     "output_type": "error",
     "traceback": [
      "\u001b[0;31m---------------------------------------------------------------------------\u001b[0m",
      "\u001b[0;31mKeyboardInterrupt\u001b[0m                         Traceback (most recent call last)",
      "Cell \u001b[0;32mIn[2], line 8\u001b[0m\n\u001b[1;32m      6\u001b[0m text \u001b[39m=\u001b[39m \u001b[39m'\u001b[39m\u001b[39mBarack Obama was born in Hawaii. Richard Manning wrote this sentence.\u001b[39m\u001b[39m'\u001b[39m\n\u001b[1;32m      7\u001b[0m \u001b[39mprint\u001b[39m(\u001b[39m'\u001b[39m\u001b[39mText: \u001b[39m\u001b[39m%s\u001b[39;00m\u001b[39m.\u001b[39m\u001b[39m'\u001b[39m \u001b[39m%\u001b[39m text)\n\u001b[0;32m----> 8\u001b[0m \u001b[39mfor\u001b[39;00m triple \u001b[39min\u001b[39;00m client\u001b[39m.\u001b[39;49mannotate(text):\n\u001b[1;32m      9\u001b[0m     \u001b[39mprint\u001b[39m(\u001b[39m'\u001b[39m\u001b[39m|-\u001b[39m\u001b[39m'\u001b[39m, triple)\n\u001b[1;32m     11\u001b[0m graph_image \u001b[39m=\u001b[39m \u001b[39m'\u001b[39m\u001b[39mgraph.png\u001b[39m\u001b[39m'\u001b[39m\n",
      "File \u001b[0;32m~/anaconda3/envs/openIE/lib/python3.11/site-packages/openie/openie.py:57\u001b[0m, in \u001b[0;36mStanfordOpenIE.annotate\u001b[0;34m(self, text, properties_key, properties, simple_format)\u001b[0m\n\u001b[1;32m     49\u001b[0m \u001b[39m\u001b[39m\u001b[39m\"\"\"\u001b[39;00m\n\u001b[1;32m     50\u001b[0m \u001b[39m:param (str | unicode) text: raw text for the CoreNLPServer to parse\u001b[39;00m\n\u001b[1;32m     51\u001b[0m \u001b[39m:param (str) properties_key: key into properties cache for the client\u001b[39;00m\n\u001b[0;32m   (...)\u001b[0m\n\u001b[1;32m     54\u001b[0m \u001b[39m:return: Depending on simple_format: full or simpler format of triples <subject, relation, object>.\u001b[39;00m\n\u001b[1;32m     55\u001b[0m \u001b[39m\"\"\"\u001b[39;00m\n\u001b[1;32m     56\u001b[0m \u001b[39m# https://stanfordnlp.github.io/CoreNLP/openie.html\u001b[39;00m\n\u001b[0;32m---> 57\u001b[0m core_nlp_output \u001b[39m=\u001b[39m \u001b[39mself\u001b[39;49m\u001b[39m.\u001b[39;49mclient\u001b[39m.\u001b[39;49mannotate(\n\u001b[1;32m     58\u001b[0m     text\u001b[39m=\u001b[39;49mtext, annotators\u001b[39m=\u001b[39;49m[\u001b[39m'\u001b[39;49m\u001b[39mopenie\u001b[39;49m\u001b[39m'\u001b[39;49m], output_format\u001b[39m=\u001b[39;49m\u001b[39m'\u001b[39;49m\u001b[39mjson\u001b[39;49m\u001b[39m'\u001b[39;49m,\n\u001b[1;32m     59\u001b[0m     properties_key\u001b[39m=\u001b[39;49mproperties_key, properties\u001b[39m=\u001b[39;49mproperties\n\u001b[1;32m     60\u001b[0m )\n\u001b[1;32m     61\u001b[0m \u001b[39mif\u001b[39;00m simple_format:\n\u001b[1;32m     62\u001b[0m     triples \u001b[39m=\u001b[39m []\n",
      "File \u001b[0;32m~/anaconda3/envs/openIE/lib/python3.11/site-packages/stanfordnlp/server/client.py:398\u001b[0m, in \u001b[0;36mCoreNLPClient.annotate\u001b[0;34m(self, text, annotators, output_format, properties_key, properties, **kwargs)\u001b[0m\n\u001b[1;32m    396\u001b[0m         request_properties[\u001b[39m'\u001b[39m\u001b[39moutputFormat\u001b[39m\u001b[39m'\u001b[39m] \u001b[39m=\u001b[39m CoreNLPClient\u001b[39m.\u001b[39mDEFAULT_OUTPUT_FORMAT\n\u001b[1;32m    397\u001b[0m \u001b[39m# make the request\u001b[39;00m\n\u001b[0;32m--> 398\u001b[0m r \u001b[39m=\u001b[39m \u001b[39mself\u001b[39;49m\u001b[39m.\u001b[39;49m_request(text\u001b[39m.\u001b[39;49mencode(\u001b[39m'\u001b[39;49m\u001b[39mutf-8\u001b[39;49m\u001b[39m'\u001b[39;49m), request_properties, \u001b[39m*\u001b[39;49m\u001b[39m*\u001b[39;49mkwargs)\n\u001b[1;32m    399\u001b[0m \u001b[39mif\u001b[39;00m request_properties[\u001b[39m\"\u001b[39m\u001b[39moutputFormat\u001b[39m\u001b[39m\"\u001b[39m] \u001b[39m==\u001b[39m \u001b[39m\"\u001b[39m\u001b[39mjson\u001b[39m\u001b[39m\"\u001b[39m:\n\u001b[1;32m    400\u001b[0m     \u001b[39mreturn\u001b[39;00m r\u001b[39m.\u001b[39mjson()\n",
      "File \u001b[0;32m~/anaconda3/envs/openIE/lib/python3.11/site-packages/stanfordnlp/server/client.py:311\u001b[0m, in \u001b[0;36mCoreNLPClient._request\u001b[0;34m(self, buf, properties, **kwargs)\u001b[0m\n\u001b[1;32m    303\u001b[0m \u001b[39mdef\u001b[39;00m \u001b[39m_request\u001b[39m(\u001b[39mself\u001b[39m, buf, properties, \u001b[39m*\u001b[39m\u001b[39m*\u001b[39mkwargs):\n\u001b[1;32m    304\u001b[0m \u001b[39m    \u001b[39m\u001b[39m\"\"\"\u001b[39;00m\n\u001b[1;32m    305\u001b[0m \u001b[39m    Send a request to the CoreNLP server.\u001b[39;00m\n\u001b[1;32m    306\u001b[0m \n\u001b[0;32m   (...)\u001b[0m\n\u001b[1;32m    309\u001b[0m \u001b[39m    :return: request result\u001b[39;00m\n\u001b[1;32m    310\u001b[0m \u001b[39m    \"\"\"\u001b[39;00m\n\u001b[0;32m--> 311\u001b[0m     \u001b[39mself\u001b[39;49m\u001b[39m.\u001b[39;49mensure_alive()\n\u001b[1;32m    313\u001b[0m     \u001b[39mtry\u001b[39;00m:\n\u001b[1;32m    314\u001b[0m         input_format \u001b[39m=\u001b[39m properties\u001b[39m.\u001b[39mget(\u001b[39m\"\u001b[39m\u001b[39minputFormat\u001b[39m\u001b[39m\"\u001b[39m, \u001b[39m\"\u001b[39m\u001b[39mtext\u001b[39m\u001b[39m\"\u001b[39m)\n",
      "File \u001b[0;32m~/anaconda3/envs/openIE/lib/python3.11/site-packages/stanfordnlp/server/client.py:129\u001b[0m, in \u001b[0;36mRobustService.ensure_alive\u001b[0;34m(self)\u001b[0m\n\u001b[1;32m    127\u001b[0m \u001b[39mwhile\u001b[39;00m \u001b[39mTrue\u001b[39;00m:\n\u001b[1;32m    128\u001b[0m     \u001b[39mtry\u001b[39;00m:\n\u001b[0;32m--> 129\u001b[0m         \u001b[39mif\u001b[39;00m \u001b[39mself\u001b[39;49m\u001b[39m.\u001b[39;49mis_alive():\n\u001b[1;32m    130\u001b[0m             \u001b[39mbreak\u001b[39;00m\n\u001b[1;32m    131\u001b[0m     \u001b[39mexcept\u001b[39;00m ShouldRetryException:\n",
      "File \u001b[0;32m~/anaconda3/envs/openIE/lib/python3.11/site-packages/stanfordnlp/server/client.py:83\u001b[0m, in \u001b[0;36mRobustService.is_alive\u001b[0;34m(self)\u001b[0m\n\u001b[1;32m     81\u001b[0m \u001b[39mdef\u001b[39;00m \u001b[39mis_alive\u001b[39m(\u001b[39mself\u001b[39m):\n\u001b[1;32m     82\u001b[0m     \u001b[39mtry\u001b[39;00m:\n\u001b[0;32m---> 83\u001b[0m         \u001b[39mreturn\u001b[39;00m requests\u001b[39m.\u001b[39;49mget(\u001b[39mself\u001b[39;49m\u001b[39m.\u001b[39;49mendpoint \u001b[39m+\u001b[39;49m \u001b[39m\"\u001b[39;49m\u001b[39m/ping\u001b[39;49m\u001b[39m\"\u001b[39;49m)\u001b[39m.\u001b[39mok\n\u001b[1;32m     84\u001b[0m     \u001b[39mexcept\u001b[39;00m requests\u001b[39m.\u001b[39mexceptions\u001b[39m.\u001b[39mConnectionError \u001b[39mas\u001b[39;00m e:\n\u001b[1;32m     85\u001b[0m         \u001b[39mraise\u001b[39;00m ShouldRetryException(e)\n",
      "File \u001b[0;32m~/anaconda3/envs/openIE/lib/python3.11/site-packages/requests/api.py:73\u001b[0m, in \u001b[0;36mget\u001b[0;34m(url, params, **kwargs)\u001b[0m\n\u001b[1;32m     62\u001b[0m \u001b[39mdef\u001b[39;00m \u001b[39mget\u001b[39m(url, params\u001b[39m=\u001b[39m\u001b[39mNone\u001b[39;00m, \u001b[39m*\u001b[39m\u001b[39m*\u001b[39mkwargs):\n\u001b[1;32m     63\u001b[0m \u001b[39m    \u001b[39m\u001b[39mr\u001b[39m\u001b[39m\"\"\"Sends a GET request.\u001b[39;00m\n\u001b[1;32m     64\u001b[0m \n\u001b[1;32m     65\u001b[0m \u001b[39m    :param url: URL for the new :class:`Request` object.\u001b[39;00m\n\u001b[0;32m   (...)\u001b[0m\n\u001b[1;32m     70\u001b[0m \u001b[39m    :rtype: requests.Response\u001b[39;00m\n\u001b[1;32m     71\u001b[0m \u001b[39m    \"\"\"\u001b[39;00m\n\u001b[0;32m---> 73\u001b[0m     \u001b[39mreturn\u001b[39;00m request(\u001b[39m\"\u001b[39;49m\u001b[39mget\u001b[39;49m\u001b[39m\"\u001b[39;49m, url, params\u001b[39m=\u001b[39;49mparams, \u001b[39m*\u001b[39;49m\u001b[39m*\u001b[39;49mkwargs)\n",
      "File \u001b[0;32m~/anaconda3/envs/openIE/lib/python3.11/site-packages/requests/api.py:59\u001b[0m, in \u001b[0;36mrequest\u001b[0;34m(method, url, **kwargs)\u001b[0m\n\u001b[1;32m     55\u001b[0m \u001b[39m# By using the 'with' statement we are sure the session is closed, thus we\u001b[39;00m\n\u001b[1;32m     56\u001b[0m \u001b[39m# avoid leaving sockets open which can trigger a ResourceWarning in some\u001b[39;00m\n\u001b[1;32m     57\u001b[0m \u001b[39m# cases, and look like a memory leak in others.\u001b[39;00m\n\u001b[1;32m     58\u001b[0m \u001b[39mwith\u001b[39;00m sessions\u001b[39m.\u001b[39mSession() \u001b[39mas\u001b[39;00m session:\n\u001b[0;32m---> 59\u001b[0m     \u001b[39mreturn\u001b[39;00m session\u001b[39m.\u001b[39;49mrequest(method\u001b[39m=\u001b[39;49mmethod, url\u001b[39m=\u001b[39;49murl, \u001b[39m*\u001b[39;49m\u001b[39m*\u001b[39;49mkwargs)\n",
      "File \u001b[0;32m~/anaconda3/envs/openIE/lib/python3.11/site-packages/requests/sessions.py:589\u001b[0m, in \u001b[0;36mSession.request\u001b[0;34m(self, method, url, params, data, headers, cookies, files, auth, timeout, allow_redirects, proxies, hooks, stream, verify, cert, json)\u001b[0m\n\u001b[1;32m    584\u001b[0m send_kwargs \u001b[39m=\u001b[39m {\n\u001b[1;32m    585\u001b[0m     \u001b[39m\"\u001b[39m\u001b[39mtimeout\u001b[39m\u001b[39m\"\u001b[39m: timeout,\n\u001b[1;32m    586\u001b[0m     \u001b[39m\"\u001b[39m\u001b[39mallow_redirects\u001b[39m\u001b[39m\"\u001b[39m: allow_redirects,\n\u001b[1;32m    587\u001b[0m }\n\u001b[1;32m    588\u001b[0m send_kwargs\u001b[39m.\u001b[39mupdate(settings)\n\u001b[0;32m--> 589\u001b[0m resp \u001b[39m=\u001b[39m \u001b[39mself\u001b[39;49m\u001b[39m.\u001b[39;49msend(prep, \u001b[39m*\u001b[39;49m\u001b[39m*\u001b[39;49msend_kwargs)\n\u001b[1;32m    591\u001b[0m \u001b[39mreturn\u001b[39;00m resp\n",
      "File \u001b[0;32m~/anaconda3/envs/openIE/lib/python3.11/site-packages/requests/sessions.py:703\u001b[0m, in \u001b[0;36mSession.send\u001b[0;34m(self, request, **kwargs)\u001b[0m\n\u001b[1;32m    700\u001b[0m start \u001b[39m=\u001b[39m preferred_clock()\n\u001b[1;32m    702\u001b[0m \u001b[39m# Send the request\u001b[39;00m\n\u001b[0;32m--> 703\u001b[0m r \u001b[39m=\u001b[39m adapter\u001b[39m.\u001b[39;49msend(request, \u001b[39m*\u001b[39;49m\u001b[39m*\u001b[39;49mkwargs)\n\u001b[1;32m    705\u001b[0m \u001b[39m# Total elapsed time of the request (approximately)\u001b[39;00m\n\u001b[1;32m    706\u001b[0m elapsed \u001b[39m=\u001b[39m preferred_clock() \u001b[39m-\u001b[39m start\n",
      "File \u001b[0;32m~/anaconda3/envs/openIE/lib/python3.11/site-packages/requests/adapters.py:486\u001b[0m, in \u001b[0;36mHTTPAdapter.send\u001b[0;34m(self, request, stream, timeout, verify, cert, proxies)\u001b[0m\n\u001b[1;32m    483\u001b[0m     timeout \u001b[39m=\u001b[39m TimeoutSauce(connect\u001b[39m=\u001b[39mtimeout, read\u001b[39m=\u001b[39mtimeout)\n\u001b[1;32m    485\u001b[0m \u001b[39mtry\u001b[39;00m:\n\u001b[0;32m--> 486\u001b[0m     resp \u001b[39m=\u001b[39m conn\u001b[39m.\u001b[39;49murlopen(\n\u001b[1;32m    487\u001b[0m         method\u001b[39m=\u001b[39;49mrequest\u001b[39m.\u001b[39;49mmethod,\n\u001b[1;32m    488\u001b[0m         url\u001b[39m=\u001b[39;49murl,\n\u001b[1;32m    489\u001b[0m         body\u001b[39m=\u001b[39;49mrequest\u001b[39m.\u001b[39;49mbody,\n\u001b[1;32m    490\u001b[0m         headers\u001b[39m=\u001b[39;49mrequest\u001b[39m.\u001b[39;49mheaders,\n\u001b[1;32m    491\u001b[0m         redirect\u001b[39m=\u001b[39;49m\u001b[39mFalse\u001b[39;49;00m,\n\u001b[1;32m    492\u001b[0m         assert_same_host\u001b[39m=\u001b[39;49m\u001b[39mFalse\u001b[39;49;00m,\n\u001b[1;32m    493\u001b[0m         preload_content\u001b[39m=\u001b[39;49m\u001b[39mFalse\u001b[39;49;00m,\n\u001b[1;32m    494\u001b[0m         decode_content\u001b[39m=\u001b[39;49m\u001b[39mFalse\u001b[39;49;00m,\n\u001b[1;32m    495\u001b[0m         retries\u001b[39m=\u001b[39;49m\u001b[39mself\u001b[39;49m\u001b[39m.\u001b[39;49mmax_retries,\n\u001b[1;32m    496\u001b[0m         timeout\u001b[39m=\u001b[39;49mtimeout,\n\u001b[1;32m    497\u001b[0m         chunked\u001b[39m=\u001b[39;49mchunked,\n\u001b[1;32m    498\u001b[0m     )\n\u001b[1;32m    500\u001b[0m \u001b[39mexcept\u001b[39;00m (ProtocolError, \u001b[39mOSError\u001b[39;00m) \u001b[39mas\u001b[39;00m err:\n\u001b[1;32m    501\u001b[0m     \u001b[39mraise\u001b[39;00m \u001b[39mConnectionError\u001b[39;00m(err, request\u001b[39m=\u001b[39mrequest)\n",
      "File \u001b[0;32m~/anaconda3/envs/openIE/lib/python3.11/site-packages/urllib3/connectionpool.py:790\u001b[0m, in \u001b[0;36mHTTPConnectionPool.urlopen\u001b[0;34m(self, method, url, body, headers, retries, redirect, assert_same_host, timeout, pool_timeout, release_conn, chunked, body_pos, preload_content, decode_content, **response_kw)\u001b[0m\n\u001b[1;32m    787\u001b[0m response_conn \u001b[39m=\u001b[39m conn \u001b[39mif\u001b[39;00m \u001b[39mnot\u001b[39;00m release_conn \u001b[39melse\u001b[39;00m \u001b[39mNone\u001b[39;00m\n\u001b[1;32m    789\u001b[0m \u001b[39m# Make the request on the HTTPConnection object\u001b[39;00m\n\u001b[0;32m--> 790\u001b[0m response \u001b[39m=\u001b[39m \u001b[39mself\u001b[39;49m\u001b[39m.\u001b[39;49m_make_request(\n\u001b[1;32m    791\u001b[0m     conn,\n\u001b[1;32m    792\u001b[0m     method,\n\u001b[1;32m    793\u001b[0m     url,\n\u001b[1;32m    794\u001b[0m     timeout\u001b[39m=\u001b[39;49mtimeout_obj,\n\u001b[1;32m    795\u001b[0m     body\u001b[39m=\u001b[39;49mbody,\n\u001b[1;32m    796\u001b[0m     headers\u001b[39m=\u001b[39;49mheaders,\n\u001b[1;32m    797\u001b[0m     chunked\u001b[39m=\u001b[39;49mchunked,\n\u001b[1;32m    798\u001b[0m     retries\u001b[39m=\u001b[39;49mretries,\n\u001b[1;32m    799\u001b[0m     response_conn\u001b[39m=\u001b[39;49mresponse_conn,\n\u001b[1;32m    800\u001b[0m     preload_content\u001b[39m=\u001b[39;49mpreload_content,\n\u001b[1;32m    801\u001b[0m     decode_content\u001b[39m=\u001b[39;49mdecode_content,\n\u001b[1;32m    802\u001b[0m     \u001b[39m*\u001b[39;49m\u001b[39m*\u001b[39;49mresponse_kw,\n\u001b[1;32m    803\u001b[0m )\n\u001b[1;32m    805\u001b[0m \u001b[39m# Everything went great!\u001b[39;00m\n\u001b[1;32m    806\u001b[0m clean_exit \u001b[39m=\u001b[39m \u001b[39mTrue\u001b[39;00m\n",
      "File \u001b[0;32m~/anaconda3/envs/openIE/lib/python3.11/site-packages/urllib3/connectionpool.py:536\u001b[0m, in \u001b[0;36mHTTPConnectionPool._make_request\u001b[0;34m(self, conn, method, url, body, headers, retries, timeout, chunked, response_conn, preload_content, decode_content, enforce_content_length)\u001b[0m\n\u001b[1;32m    534\u001b[0m \u001b[39m# Receive the response from the server\u001b[39;00m\n\u001b[1;32m    535\u001b[0m \u001b[39mtry\u001b[39;00m:\n\u001b[0;32m--> 536\u001b[0m     response \u001b[39m=\u001b[39m conn\u001b[39m.\u001b[39;49mgetresponse()\n\u001b[1;32m    537\u001b[0m \u001b[39mexcept\u001b[39;00m (BaseSSLError, \u001b[39mOSError\u001b[39;00m) \u001b[39mas\u001b[39;00m e:\n\u001b[1;32m    538\u001b[0m     \u001b[39mself\u001b[39m\u001b[39m.\u001b[39m_raise_timeout(err\u001b[39m=\u001b[39me, url\u001b[39m=\u001b[39murl, timeout_value\u001b[39m=\u001b[39mread_timeout)\n",
      "File \u001b[0;32m~/anaconda3/envs/openIE/lib/python3.11/site-packages/urllib3/connection.py:454\u001b[0m, in \u001b[0;36mHTTPConnection.getresponse\u001b[0;34m(self)\u001b[0m\n\u001b[1;32m    451\u001b[0m \u001b[39mfrom\u001b[39;00m \u001b[39m.\u001b[39;00m\u001b[39mresponse\u001b[39;00m \u001b[39mimport\u001b[39;00m HTTPResponse\n\u001b[1;32m    453\u001b[0m \u001b[39m# Get the response from http.client.HTTPConnection\u001b[39;00m\n\u001b[0;32m--> 454\u001b[0m httplib_response \u001b[39m=\u001b[39m \u001b[39msuper\u001b[39;49m()\u001b[39m.\u001b[39;49mgetresponse()\n\u001b[1;32m    456\u001b[0m \u001b[39mtry\u001b[39;00m:\n\u001b[1;32m    457\u001b[0m     assert_header_parsing(httplib_response\u001b[39m.\u001b[39mmsg)\n",
      "File \u001b[0;32m~/anaconda3/envs/openIE/lib/python3.11/http/client.py:1375\u001b[0m, in \u001b[0;36mHTTPConnection.getresponse\u001b[0;34m(self)\u001b[0m\n\u001b[1;32m   1373\u001b[0m \u001b[39mtry\u001b[39;00m:\n\u001b[1;32m   1374\u001b[0m     \u001b[39mtry\u001b[39;00m:\n\u001b[0;32m-> 1375\u001b[0m         response\u001b[39m.\u001b[39;49mbegin()\n\u001b[1;32m   1376\u001b[0m     \u001b[39mexcept\u001b[39;00m \u001b[39mConnectionError\u001b[39;00m:\n\u001b[1;32m   1377\u001b[0m         \u001b[39mself\u001b[39m\u001b[39m.\u001b[39mclose()\n",
      "File \u001b[0;32m~/anaconda3/envs/openIE/lib/python3.11/http/client.py:318\u001b[0m, in \u001b[0;36mHTTPResponse.begin\u001b[0;34m(self)\u001b[0m\n\u001b[1;32m    316\u001b[0m \u001b[39m# read until we get a non-100 response\u001b[39;00m\n\u001b[1;32m    317\u001b[0m \u001b[39mwhile\u001b[39;00m \u001b[39mTrue\u001b[39;00m:\n\u001b[0;32m--> 318\u001b[0m     version, status, reason \u001b[39m=\u001b[39m \u001b[39mself\u001b[39;49m\u001b[39m.\u001b[39;49m_read_status()\n\u001b[1;32m    319\u001b[0m     \u001b[39mif\u001b[39;00m status \u001b[39m!=\u001b[39m CONTINUE:\n\u001b[1;32m    320\u001b[0m         \u001b[39mbreak\u001b[39;00m\n",
      "File \u001b[0;32m~/anaconda3/envs/openIE/lib/python3.11/http/client.py:279\u001b[0m, in \u001b[0;36mHTTPResponse._read_status\u001b[0;34m(self)\u001b[0m\n\u001b[1;32m    278\u001b[0m \u001b[39mdef\u001b[39;00m \u001b[39m_read_status\u001b[39m(\u001b[39mself\u001b[39m):\n\u001b[0;32m--> 279\u001b[0m     line \u001b[39m=\u001b[39m \u001b[39mstr\u001b[39m(\u001b[39mself\u001b[39;49m\u001b[39m.\u001b[39;49mfp\u001b[39m.\u001b[39;49mreadline(_MAXLINE \u001b[39m+\u001b[39;49m \u001b[39m1\u001b[39;49m), \u001b[39m\"\u001b[39m\u001b[39miso-8859-1\u001b[39m\u001b[39m\"\u001b[39m)\n\u001b[1;32m    280\u001b[0m     \u001b[39mif\u001b[39;00m \u001b[39mlen\u001b[39m(line) \u001b[39m>\u001b[39m _MAXLINE:\n\u001b[1;32m    281\u001b[0m         \u001b[39mraise\u001b[39;00m LineTooLong(\u001b[39m\"\u001b[39m\u001b[39mstatus line\u001b[39m\u001b[39m\"\u001b[39m)\n",
      "File \u001b[0;32m~/anaconda3/envs/openIE/lib/python3.11/socket.py:706\u001b[0m, in \u001b[0;36mSocketIO.readinto\u001b[0;34m(self, b)\u001b[0m\n\u001b[1;32m    704\u001b[0m \u001b[39mwhile\u001b[39;00m \u001b[39mTrue\u001b[39;00m:\n\u001b[1;32m    705\u001b[0m     \u001b[39mtry\u001b[39;00m:\n\u001b[0;32m--> 706\u001b[0m         \u001b[39mreturn\u001b[39;00m \u001b[39mself\u001b[39;49m\u001b[39m.\u001b[39;49m_sock\u001b[39m.\u001b[39;49mrecv_into(b)\n\u001b[1;32m    707\u001b[0m     \u001b[39mexcept\u001b[39;00m timeout:\n\u001b[1;32m    708\u001b[0m         \u001b[39mself\u001b[39m\u001b[39m.\u001b[39m_timeout_occurred \u001b[39m=\u001b[39m \u001b[39mTrue\u001b[39;00m\n",
      "\u001b[0;31mKeyboardInterrupt\u001b[0m: "
     ]
    }
   ],
   "source": [
    "\n",
    "properties = {\n",
    "    'openie.affinity_probability_cap': 2 / 3,\n",
    "}\n",
    "\n",
    "with StanfordOpenIE(properties=properties) as client:\n",
    "    text = 'Barack Obama was born in Hawaii. Richard Manning wrote this sentence.'\n",
    "    print('Text: %s.' % text)\n",
    "    for triple in client.annotate(text):\n",
    "        print('|-', triple)\n",
    "\n",
    "    graph_image = 'graph.png'\n",
    "    client.generate_graphviz_graph(text, graph_image)\n",
    "    print('Graph generated: %s.' % graph_image)"
   ]
  },
  {
   "cell_type": "code",
   "execution_count": 11,
   "metadata": {},
   "outputs": [
    {
     "name": "stdout",
     "output_type": "stream",
     "text": [
      "Found file: 01_the_fellowship_of_the_ring.txt\n",
      "Found file: 02_the_two_towers.txt\n",
      "Found file: 03_the_return_of_the_king.txt\n"
     ]
    }
   ],
   "source": [
    "import os\n",
    "\n",
    "data_dir = \"../../data/\"\n",
    "\n",
    "for file_name in os.listdir(data_dir):\n",
    "\tfile = os.path.join(data_dir, file_name)\n",
    "\tif os.path.isfile(file):\n",
    "\t\tprint('Found file: %s' % file_name)\n",
    "\t\twith open(file, encoding='utf8') as r:\n",
    "\t\t\tcorpus = r.read().replace('\\n', ' ').replace('\\r', '')\n",
    "\n",
    "\t\ttriples_corpus = client.annotate(corpus)\n",
    "\t\twith open(file_name.split('.')[0] + \".triples\", \"w\") as wrf:\n",
    "\t\t\tfor triple in triples_corpus:\n",
    "\t\t\t\twrf.write(str(triple) + '\\n')"
   ]
  },
  {
   "cell_type": "code",
   "execution_count": 13,
   "metadata": {},
   "outputs": [],
   "source": [
    "class KB():\n",
    "    def __init__(self):\n",
    "        self.relations = []\n",
    "\n",
    "    def are_relations_equal(self, r1, r2):\n",
    "        return all(r1[attr] == r2[attr] for attr in [\"head\", \"type\", \"tail\"])\n",
    "\n",
    "    def exists_relation(self, r1):\n",
    "        return any(self.are_relations_equal(r1, r2) for r2 in self.relations)\n",
    "\n",
    "    def add_relation(self, r):\n",
    "        if not self.exists_relation(r):\n",
    "            self.relations.append(r)\n",
    "\n",
    "    def print(self):\n",
    "        print(\"Relations:\")\n",
    "        for r in self.relations:\n",
    "            print(f\"  {r}\")\n",
    "    \n",
    "    def save(self, file_name):\n",
    "        with open(file_name, \"w\") as f:\n",
    "            for r in self.relations:\n",
    "                f.write(f\"{str(r)}\\n\")"
   ]
  },
  {
   "cell_type": "code",
   "execution_count": 3,
   "metadata": {},
   "outputs": [
    {
     "name": "stdout",
     "output_type": "stream",
     "text": [
      "Starting server with command: java -Xmx8G -cp /home/manish/.stanfordnlp_resources/stanford-corenlp-4.5.3/* edu.stanford.nlp.pipeline.StanfordCoreNLPServer -port 9000 -timeout 60000 -threads 5 -maxCharLength 100000 -quiet True -serverProperties corenlp_server-a9a9026a5fa142b9.props -preload openie\n"
     ]
    }
   ],
   "source": [
    "text = 'Link awakens from a deep slumber and a mysterious voice guides him to discover what has become of the ruined country of Hyrule Kingdom. Link leaves the Shrine of Resurrection, runs up to the ledge and looks out at the ruins of the kingdom Hyrule. Link then meets an Old Man, who will give him the Paraglider, which is the only way to get to Hyrule. The Old Man wants the Spirit Orbs, in the Shrines, respectively the Oman Au Shrine, Ja Baij Shrine, Owa Daim Shrine, and the Keh Namut Shrine. After Link gets the spirit orbs, the Old Man appears, then mysteriously disappears, telling Link to meet him in the Temple of Time. The Old Man reveals himself as the spirit of the deceased King of Hyrule, King Rhoam. Link learns from King Rhoam that 100 years prior, a great evil known as the Calamity Ganon rose up and laid waste to the kingdom and its people. Unable to be defeated, it was sealed within Hyrule Castle, while the ruins of the land were ravaged by nature over time. Although trapped, the Calamity Ganon has grown in power, and Link must defeat it before it breaks free once more and destroys the world. The mysterious voice turns out to be Zelda, whom who is the daughter of King Rhoam. After escaping the confines of the Great Plateau, Link is directed to meet the wise Sheikah elder Impa, and learn about the Guardians and Divine Beasts: 10,000 years prior these machines were created and successfully used by another Hero and another Princess to defeat the Calamity Ganon. But throughout the ages, knowledge about the ancient technology was lost until excavations in Hyrule Kingdom brought them to light once more, coinciding with the expected return of Calamity Ganon a hundred years ago. The Guardians were reactivated and four Champions were chosen to control the Divine Beasts: The Zora princess Mipha, the Goron warrior Daruk, the Gerudo chief Urbosa, and the Rito archer Revali. All the while, Zelda was unsuccessfully trying to gain access to her own prophesied powers, accompanied on her quests by her knight, the Hylian Champion Link. When the Calamity Ganon ultimately attacked, it devastated the Kingdom of Hyrule Kingdom by taking control of the ancient machines and turning them against the Hyruleans. As a last resort, Zelda was able to place the gravely wounded Link in the Shrine of Resurrection and use her awoken sealing powers to trap herself with Calamity Ganon in Hyrule Castle.'\n",
    "\n",
    "properties = {\n",
    "    'openie.affinity_probability_cap': 2 / 3,\n",
    "}\n",
    "\n",
    "with StanfordOpenIE(properties=properties) as client:\n",
    "\tzelda_triplets = client.annotate(text)"
   ]
  },
  {
   "cell_type": "code",
   "execution_count": 14,
   "metadata": {},
   "outputs": [],
   "source": [
    "zelda_kb = KB()\n",
    "\n",
    "for triplet in zelda_triplets:\n",
    "    rel = {\n",
    "        \"head\": triplet['subject'],\n",
    "        \"type\": triplet['relation'],\n",
    "        \"tail\": triplet['object']\n",
    "\t}\n",
    "    zelda_kb.add_relation(rel)"
   ]
  },
  {
   "cell_type": "code",
   "execution_count": 10,
   "metadata": {},
   "outputs": [
    {
     "name": "stdout",
     "output_type": "stream",
     "text": [
      "Relations:\n",
      "  {'head': 'Link', 'type': 'awakens', 'tail': 'to discover'}\n",
      "  {'head': 'Link', 'type': 'awakens from', 'tail': 'slumber'}\n",
      "  {'head': 'Link', 'type': 'awakens from', 'tail': 'deep slumber'}\n",
      "  {'head': 'Link', 'type': 'awakens', 'tail': 'him'}\n",
      "  {'head': 'Link', 'type': 'awakens', 'tail': 'discover'}\n",
      "  {'head': 'Link', 'type': 'leaves', 'tail': 'Shrine'}\n",
      "  {'head': 'Link', 'type': 'looks out at', 'tail': 'ruins of kingdom Hyrule'}\n",
      "  {'head': 'Link', 'type': 'leaves', 'tail': 'Shrine of Resurrection'}\n",
      "  {'head': 'Link', 'type': 'looks out at', 'tail': 'ruins'}\n",
      "  {'head': 'Link', 'type': 'meets', 'tail': 'Man'}\n",
      "  {'head': 'Link', 'type': 'meets', 'tail': 'Old Man'}\n",
      "  {'head': 'Shrines', 'type': 'in Orbs is', 'tail': 'Ja Baij Shrine'}\n",
      "  {'head': 'Shrines', 'type': 'in Orbs is', 'tail': 'Owa Daim Shrine'}\n",
      "  {'head': 'Old Man', 'type': 'wants', 'tail': 'Spirit Orbs in Shrines'}\n",
      "  {'head': 'Old Man', 'type': 'wants', 'tail': 'Oman Au Shrine'}\n",
      "  {'head': 'Old Man', 'type': 'wants', 'tail': 'Owa Daim Shrine'}\n",
      "  {'head': 'Spirit Orbs', 'type': 'is in', 'tail': 'Shrines'}\n",
      "  {'head': 'Old Man', 'type': 'wants', 'tail': 'respectively Oman Au Shrine'}\n",
      "  {'head': 'Old Man', 'type': 'wants', 'tail': 'Ja Baij Shrine'}\n",
      "  {'head': 'Old Man', 'type': 'wants', 'tail': 'Spirit Orbs'}\n",
      "  {'head': 'Link', 'type': 'gets', 'tail': 'spirit orbs'}\n",
      "  {'head': 'Old Man', 'type': 'appears', 'tail': 'Link gets'}\n",
      "  {'head': 'Old Man', 'type': 'appears', 'tail': 'After Link gets'}\n",
      "  {'head': 'Old Man', 'type': 'reveals King Rhoam as', 'tail': 'spirit of King'}\n",
      "  {'head': 'Old Man', 'type': 'reveals King Rhoam as', 'tail': 'spirit'}\n",
      "  {'head': 'Old Man', 'type': 'reveals as', 'tail': 'spirit of King'}\n",
      "  {'head': 'Old Man', 'type': 'reveals as', 'tail': 'spirit of deceased King'}\n",
      "  {'head': 'Old Man', 'type': 'reveals as', 'tail': 'spirit of King of Hyrule'}\n",
      "  {'head': 'Old Man', 'type': 'reveals King Rhoam as', 'tail': 'spirit of King of Hyrule'}\n",
      "  {'head': 'Old Man', 'type': 'reveals King Rhoam as', 'tail': 'spirit of deceased King'}\n",
      "  {'head': 'Old Man', 'type': 'reveals', 'tail': 'himself'}\n",
      "  {'head': 'Old Man', 'type': 'reveals as', 'tail': 'spirit'}\n",
      "  {'head': 'Old Man', 'type': 'reveals', 'tail': 'King Rhoam'}\n",
      "  {'head': 'Old Man', 'type': 'reveals King Rhoam as', 'tail': 'spirit of deceased King of Hyrule'}\n",
      "  {'head': 'Old Man', 'type': 'reveals as', 'tail': 'spirit of deceased King of Hyrule'}\n",
      "  {'head': 'Calamity Ganon', 'type': 'laid to', 'tail': 'kingdom'}\n",
      "  {'head': 'Calamity Ganon', 'type': 'laid', 'tail': 'waste'}\n",
      "  {'head': 'Calamity Ganon', 'type': 'laid waste to', 'tail': 'kingdom'}\n",
      "  {'head': 'Link', 'type': 'learns from', 'tail': 'King Rhoam'}\n",
      "  {'head': 'it', 'type': 'was sealed within', 'tail': 'Hyrule Castle'}\n",
      "  {'head': 'ruins', 'type': 'were', 'tail': 'ravaged by nature over time'}\n",
      "  {'head': 'it', 'type': 'was sealed', 'tail': 'to defeated'}\n",
      "  {'head': 'it', 'type': 'was sealed', 'tail': 'while ravaged by nature over time'}\n",
      "  {'head': 'it', 'type': 'was sealed', 'tail': 'while ravaged by nature'}\n",
      "  {'head': 'it', 'type': 'was sealed', 'tail': 'Unable to defeated'}\n",
      "  {'head': 'ruins', 'type': 'were', 'tail': 'while ravaged by nature over time'}\n",
      "  {'head': 'it', 'type': 'be', 'tail': 'defeated'}\n",
      "  {'head': 'ruins', 'type': 'were', 'tail': 'while ravaged by nature'}\n",
      "  {'head': 'it', 'type': 'was sealed', 'tail': 'ravaged by nature over time'}\n",
      "  {'head': 'it', 'type': 'was sealed', 'tail': 'ravaged by nature'}\n",
      "  {'head': 'ruins', 'type': 'were ravaged by', 'tail': 'nature'}\n",
      "  {'head': 'it', 'type': 'be', 'tail': 'Unable defeated'}\n",
      "  {'head': 'it', 'type': 'was sealed', 'tail': 'Unable defeated'}\n",
      "  {'head': 'it', 'type': 'was sealed', 'tail': 'defeated'}\n",
      "  {'head': 'it', 'type': 'was', 'tail': 'sealed'}\n",
      "  {'head': 'Calamity Ganon', 'type': 'has grown', 'tail': 'Although trapped'}\n",
      "  {'head': 'Link', 'type': 'must defeat', 'tail': 'it'}\n",
      "  {'head': 'Calamity Ganon', 'type': 'has grown in', 'tail': 'power'}\n",
      "  {'head': 'it', 'type': 'destroys', 'tail': 'world'}\n",
      "  {'head': 'Calamity Ganon', 'type': 'has grown', 'tail': 'trapped'}\n",
      "  {'head': 'voice', 'type': 'be', 'tail': 'Zelda'}\n",
      "  {'head': 'voice', 'type': 'turns out', 'tail': 'Zelda'}\n",
      "  {'head': 'voice', 'type': 'turns out', 'tail': 'to Zelda'}\n",
      "  {'head': 'mysterious voice', 'type': 'turns out', 'tail': 'to Zelda'}\n",
      "  {'head': 'mysterious voice', 'type': 'turns out', 'tail': 'Zelda'}\n",
      "  {'head': 'mysterious voice', 'type': 'be', 'tail': 'Zelda'}\n",
      "  {'head': 'wise Sheikah elder Impa', 'type': 'learn about', 'tail': 'Guardians'}\n",
      "  {'head': 'machines', 'type': 'defeat', 'tail': 'Calamity Ganon'}\n",
      "  {'head': 'Sheikah elder Impa', 'type': 'learn about', 'tail': 'Guardians'}\n",
      "  {'head': 'Link', 'type': 'is directed After', 'tail': 'escaping'}\n",
      "  {'head': 'Link', 'type': 'is', 'tail': 'directed'}\n",
      "  {'head': 'knowledge', 'type': 'was', 'tail': 'throughout ages lost until excavations in Hyrule Kingdom'}\n",
      "  {'head': 'knowledge', 'type': 'was lost until', 'tail': 'excavations'}\n",
      "  {'head': 'knowledge', 'type': 'was lost until', 'tail': 'excavations in Hyrule Kingdom'}\n",
      "  {'head': 'knowledge', 'type': 'was', 'tail': 'lost'}\n",
      "  {'head': 'knowledge', 'type': 'was lost throughout', 'tail': 'ages'}\n",
      "  {'head': 'excavations', 'type': 'is in', 'tail': 'Hyrule Kingdom'}\n",
      "  {'head': 'knowledge', 'type': 'was', 'tail': 'throughout ages lost until excavations'}\n",
      "  {'head': 'Champions', 'type': 'were chosen', 'tail': 'to control'}\n",
      "  {'head': 'four Champions', 'type': 'were chosen', 'tail': 'control'}\n",
      "  {'head': 'four Champions', 'type': 'were', 'tail': 'chosen'}\n",
      "  {'head': 'Champions', 'type': 'were chosen', 'tail': 'control'}\n",
      "  {'head': 'four Champions', 'type': 'were chosen', 'tail': 'to control'}\n",
      "  {'head': 'Champions', 'type': 'control', 'tail': 'Divine Beasts'}\n",
      "  {'head': 'Guardians', 'type': 'were', 'tail': 'reactivated'}\n",
      "  {'head': 'Champions', 'type': 'were', 'tail': 'chosen'}\n",
      "  {'head': 'four Champions', 'type': 'control', 'tail': 'Divine Beasts'}\n",
      "  {'head': 'Zelda', 'type': 'gain', 'tail': 'access to her prophesied powers'}\n",
      "  {'head': 'Zelda', 'type': 'gain', 'tail': 'access to her own powers'}\n",
      "  {'head': 'Zelda', 'type': 'accompanied on', 'tail': 'her quests'}\n",
      "  {'head': 'Zelda', 'type': 'gain', 'tail': 'access to her own prophesied powers'}\n",
      "  {'head': 'Zelda', 'type': 'gain', 'tail': 'access'}\n",
      "  {'head': 'Zelda', 'type': 'accompanied by', 'tail': 'her knight'}\n",
      "  {'head': 'Zelda', 'type': 'gain', 'tail': 'access to her powers'}\n",
      "  {'head': 'it', 'type': 'devastated Kingdom by', 'tail': 'taking control'}\n",
      "  {'head': 'it', 'type': 'turning', 'tail': 'them'}\n",
      "  {'head': 'it', 'type': 'devastated', 'tail': 'Kingdom of Hyrule Kingdom'}\n",
      "  {'head': 'it', 'type': 'devastated Kingdom by', 'tail': 'control'}\n",
      "  {'head': 'it', 'type': 'devastated Kingdom by', 'tail': 'control of machines'}\n",
      "  {'head': 'it', 'type': 'devastated by', 'tail': 'control'}\n",
      "  {'head': 'it', 'type': 'devastated by', 'tail': 'taking control of machines'}\n",
      "  {'head': 'it', 'type': 'devastated Kingdom by', 'tail': 'control of ancient machines'}\n",
      "  {'head': 'it', 'type': 'turning against', 'tail': 'Hyruleans'}\n",
      "  {'head': 'it', 'type': 'devastated by', 'tail': 'control of machines'}\n",
      "  {'head': 'it', 'type': 'devastated', 'tail': 'Kingdom'}\n",
      "  {'head': 'it', 'type': 'devastated Kingdom by', 'tail': 'taking control of ancient machines'}\n",
      "  {'head': 'it', 'type': 'devastated Kingdom by', 'tail': 'taking control of machines'}\n",
      "  {'head': 'it', 'type': 'devastated by', 'tail': 'taking control'}\n",
      "  {'head': 'it', 'type': 'devastated by', 'tail': 'control of ancient machines'}\n",
      "  {'head': 'it', 'type': 'devastated by', 'tail': 'taking control of ancient machines'}\n",
      "  {'head': 'wounded Link', 'type': 'use', 'tail': 'her sealing powers'}\n",
      "  {'head': 'Link', 'type': 'use', 'tail': 'her awoken sealing powers'}\n",
      "  {'head': 'trap', 'type': 'is with', 'tail': 'Calamity Ganon in Hyrule Castle'}\n",
      "  {'head': 'Zelda', 'type': 'was able As', 'tail': 'resort'}\n",
      "  {'head': 'Link', 'type': 'use to', 'tail': 'trap herself with Calamity Ganon'}\n",
      "  {'head': 'Zelda', 'type': 'place Link in', 'tail': 'Shrine of Resurrection'}\n",
      "  {'head': 'Zelda', 'type': 'was able As', 'tail': 'last resort'}\n",
      "  {'head': 'Zelda', 'type': 'place', 'tail': 'Link'}\n",
      "  {'head': 'wounded Link', 'type': 'use to', 'tail': 'trap herself with Calamity Ganon in Hyrule Castle'}\n",
      "  {'head': 'Zelda', 'type': 'place', 'tail': 'wounded Link'}\n",
      "  {'head': 'Link', 'type': 'use to', 'tail': 'trap herself with Calamity Ganon in Hyrule Castle'}\n",
      "  {'head': 'Zelda', 'type': 'place in', 'tail': 'Shrine of Resurrection'}\n",
      "  {'head': 'wounded Link', 'type': 'use', 'tail': 'her awoken sealing powers'}\n",
      "  {'head': 'Zelda', 'type': 'place in', 'tail': 'Shrine'}\n",
      "  {'head': 'wounded Link', 'type': 'use to', 'tail': 'trap herself with Calamity Ganon'}\n",
      "  {'head': 'Calamity Ganon', 'type': 'is in', 'tail': 'Hyrule Castle'}\n",
      "  {'head': 'Zelda', 'type': 'place', 'tail': 'gravely wounded Link'}\n",
      "  {'head': 'Zelda', 'type': 'place Link in', 'tail': 'Shrine'}\n",
      "  {'head': 'Link', 'type': 'use to', 'tail': 'trap herself'}\n",
      "  {'head': 'Zelda', 'type': 'was', 'tail': 'able'}\n",
      "  {'head': 'Link', 'type': 'use', 'tail': 'her sealing powers'}\n",
      "  {'head': 'wounded Link', 'type': 'use to', 'tail': 'trap herself'}\n"
     ]
    }
   ],
   "source": [
    "zelda_kb.print()"
   ]
  },
  {
   "cell_type": "code",
   "execution_count": 16,
   "metadata": {},
   "outputs": [],
   "source": [
    "zelda_kb.save(\"zelda-botw-openIE.kb\")"
   ]
  }
 ],
 "metadata": {
  "kernelspec": {
   "display_name": "thesis",
   "language": "python",
   "name": "python3"
  },
  "language_info": {
   "codemirror_mode": {
    "name": "ipython",
    "version": 3
   },
   "file_extension": ".py",
   "mimetype": "text/x-python",
   "name": "python",
   "nbconvert_exporter": "python",
   "pygments_lexer": "ipython3",
   "version": "3.11.3"
  },
  "orig_nbformat": 4
 },
 "nbformat": 4,
 "nbformat_minor": 2
}
