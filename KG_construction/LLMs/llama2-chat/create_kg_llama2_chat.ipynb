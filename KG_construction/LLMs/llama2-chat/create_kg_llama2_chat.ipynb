{
 "cells": [
  {
   "cell_type": "markdown",
   "metadata": {},
   "source": [
    "## Load story text and extract sentences"
   ]
  },
  {
   "cell_type": "code",
   "execution_count": null,
   "metadata": {},
   "outputs": [],
   "source": [
    "data_dir = \"../../../data\"\n",
    "\n",
    "# filename = 'zelda_botw'\n",
    "# filename = 'resolved_zelda_botw'\n",
    "filename = 'rapunzel'\n",
    "# filename = 'resolved_rapunzel'"
   ]
  },
  {
   "cell_type": "code",
   "execution_count": null,
   "metadata": {},
   "outputs": [],
   "source": [
    "import nltk, os\n",
    "nltk.download('punkt')\n",
    "from nltk import tokenize\n",
    "\n",
    "with open(os.path.join(data_dir, f\"{filename}.txt\")) as f:\n",
    "    doc = f.read()\n",
    "    doc = tokenize.sent_tokenize(doc) # split into sentences\n",
    "\n",
    "for s in doc:\n",
    "    print(s)"
   ]
  },
  {
   "cell_type": "markdown",
   "metadata": {},
   "source": [
    "## Load llama2-chat"
   ]
  },
  {
   "cell_type": "code",
   "execution_count": null,
   "metadata": {},
   "outputs": [],
   "source": [
    "from typing import Optional\n",
    "from llama import Llama"
   ]
  },
  {
   "cell_type": "code",
   "execution_count": null,
   "metadata": {},
   "outputs": [],
   "source": [
    "ckpt_dir=\"llama-2-7b-chat/\"\n",
    "tokenizer_path=\"tokenizer.model\"\n",
    "max_seq_len=512\n",
    "max_batch_size=4\n",
    "temperature = 0.6\n",
    "top_p = 0.9\n",
    "max_gen_len = None"
   ]
  },
  {
   "cell_type": "code",
   "execution_count": null,
   "metadata": {},
   "outputs": [],
   "source": [
    "generator = Llama.build(\n",
    "\tckpt_dir=ckpt_dir,\n",
    "\ttokenizer_path=tokenizer_path,\n",
    "\tmax_seq_len=max_seq_len,\n",
    "\tmax_batch_size=max_batch_size,\n",
    ")"
   ]
  },
  {
   "cell_type": "code",
   "execution_count": null,
   "metadata": {},
   "outputs": [],
   "source": [
    "while (True):\n",
    "\tmsg = input(\"User: \")\n",
    "\tif msg == \"!exit\":\n",
    "\t\tbreak\n",
    "\t\n",
    "\tdialogs = [\n",
    "\t\t[\n",
    "\t\t\t{\"role\": \"user\", \"content\": msg},\n",
    "\t\t],\n",
    "\t]\n",
    "\tresults = generator.chat_completion(\n",
    "\t\tdialogs,  # type: ignore\n",
    "\t\tmax_gen_len=max_gen_len,\n",
    "\t\ttemperature=temperature,\n",
    "\t\ttop_p=top_p,\n",
    "\t)\n",
    "\tresult = results[0]\n",
    "\tprint(f\"> {result['generation']['role'].capitalize()}: {result['generation']['content']}\")\n",
    "\tprint(\"\\n==================================\\n\")"
   ]
  }
 ],
 "metadata": {
  "language_info": {
   "name": "python"
  },
  "orig_nbformat": 4
 },
 "nbformat": 4,
 "nbformat_minor": 2
}
