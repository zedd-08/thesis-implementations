{
 "cells": [
  {
   "cell_type": "markdown",
   "metadata": {},
   "source": [
    "# AskBERT\n",
    "\n",
    "Using [AskBERT](https://github.com/rajammanabrolu/WorldGeneration/tree/master/neural-based/KG-extraction), [BERT-SQuAD](https://github.com/kamalkraj/BERT-SQuAD). \n",
    "\n",
    "Paper: Ammanabrolu, Prithviraj, Wesley Cheung, Dan Tu, William Broniec, and Mark Riedl. 2020. “Bringing Stories Alive: Generating Interactive Fiction Worlds.” Proceedings of the AAAI Conference on Artificial Intelligence and Interactive Digital Entertainment 16 (1): 3–9. https://doi.org/10.1609/aiide.v16i1.7400.\n"
   ]
  },
  {
   "cell_type": "code",
   "execution_count": 9,
   "metadata": {},
   "outputs": [
    {
     "name": "stdout",
     "output_type": "stream",
     "text": [
      "OMP: Info #250: KMP_AFFINITY: pid 7170 tid 7170 thread 0 bound to OS proc set 0-143\n",
      "Collecting nltk\n",
      "\u001b[?25l  Downloading https://files.pythonhosted.org/packages/a6/0a/0d20d2c0f16be91b9fa32a77b76c60f9baf6eba419e5ef5deca17af9c582/nltk-3.8.1-py3-none-any.whl (1.5MB)\n",
      "\u001b[K     |████████████████████████████████| 1.5MB 13.1MB/s eta 0:00:01\n",
      "\u001b[?25hRequirement already satisfied: regex>=2021.8.3 in /home/jovyan/manish-thesis/miniconda/envs/askBert/lib/python3.7/site-packages (from nltk) (2023.6.3)\n",
      "Requirement already satisfied: click in /home/jovyan/manish-thesis/miniconda/envs/askBert/lib/python3.7/site-packages (from nltk) (8.1.3)\n",
      "Requirement already satisfied: tqdm in /home/jovyan/manish-thesis/miniconda/envs/askBert/lib/python3.7/site-packages (from nltk) (4.65.0)\n",
      "Requirement already satisfied: joblib in /home/jovyan/manish-thesis/miniconda/envs/askBert/lib/python3.7/site-packages (from nltk) (1.3.1)\n",
      "Requirement already satisfied: importlib-metadata; python_version < \"3.8\" in /home/jovyan/manish-thesis/miniconda/envs/askBert/lib/python3.7/site-packages (from click->nltk) (6.7.0)\n",
      "Requirement already satisfied: zipp>=0.5 in /home/jovyan/manish-thesis/miniconda/envs/askBert/lib/python3.7/site-packages (from importlib-metadata; python_version < \"3.8\"->click->nltk) (3.15.0)\n",
      "Requirement already satisfied: typing-extensions>=3.6.4; python_version < \"3.8\" in /home/jovyan/manish-thesis/miniconda/envs/askBert/lib/python3.7/site-packages (from importlib-metadata; python_version < \"3.8\"->click->nltk) (4.3.0)\n",
      "Installing collected packages: nltk\n",
      "Successfully installed nltk-3.8.1\n",
      "Note: you may need to restart the kernel to use updated packages.\n"
     ]
    }
   ],
   "source": [
    "#%pip install nltk"
   ]
  },
  {
   "cell_type": "markdown",
   "metadata": {},
   "source": [
    "from bert import QA\n",
    "from nltk import tokenize\n",
    "nltk.download('punkt')## Inference on AskBERT"
   ]
  },
  {
   "cell_type": "code",
   "execution_count": 2,
   "metadata": {},
   "outputs": [
    {
     "name": "stderr",
     "output_type": "stream",
     "text": [
      "[nltk_data] Downloading package punkt to /home/jovyan/nltk_data...\n",
      "[nltk_data]   Unzipping tokenizers/punkt.zip.\n"
     ]
    },
    {
     "data": {
      "text/plain": [
       "True"
      ]
     },
     "execution_count": 2,
     "metadata": {},
     "output_type": "execute_result"
    }
   ],
   "source": [
    "import nltk\n",
    "nltk.download('punkt')"
   ]
  },
  {
   "cell_type": "code",
   "execution_count": 3,
   "metadata": {},
   "outputs": [],
   "source": [
    "from bert import QA\n",
    "from nltk import tokenize"
   ]
  },
  {
   "cell_type": "code",
   "execution_count": 4,
   "metadata": {},
   "outputs": [],
   "source": [
    "model = QA('model/albert-large-squad')\n",
    "\n",
    "with open(\"../../../data/zelda-botw.txt\") as f:\n",
    "    doc = f.read()\n",
    "    doc = tokenize.sent_tokenize(doc)    "
   ]
  },
  {
   "cell_type": "code",
   "execution_count": 5,
   "metadata": {},
   "outputs": [],
   "source": [
    "def print_query_results(doc, query):\n",
    "    answer = model.predict(doc, query)\n",
    "    for preds in answer[0]:\n",
    "        print(preds)\n",
    "    return answer"
   ]
  },
  {
   "cell_type": "code",
   "execution_count": 6,
   "metadata": {},
   "outputs": [
    {
     "name": "stdout",
     "output_type": "stream",
     "text": [
      "Link awakens from a deep slumber and a mysterious voice guides him to discover what has become of the ruined country of Hyrule Kingdom.\n",
      "Link leaves the Shrine of Resurrection and looks out at Hyrule on top of the Great Plateau.\n",
      "Link then meets an Old Man by a campfire.\n",
      "The Old Man promises Link his Paraglider, which is the only way to get down from the plateau.\n",
      "However, he first wants Spirit Orbs from nearby Shrines, in particular the Oman Au Shrine, Ja Baij Shrine, Owa Daim Shrine, and the Keh Namut Shrine.\n",
      "After Link gets the spirit orbs, the Old Man appears, then mysteriously disappears, telling Link to meet him in the Temple of Time.\n",
      "The Old Man reveals himself as the spirit of the deceased King of Hyrule, King Rhoam.\n",
      "Link learns from King Rhoam that 100 years prior, a great evil known as the Calamity Ganon rose up and laid waste to the kingdom and its people.\n",
      "Unable to be defeated, it was sealed within Hyrule Castle, while the ruins of the land were ravaged by nature over time.\n",
      "Although trapped, the Calamity Ganon has grown in power, and Link must defeat it before it breaks free once more and destroys the world.\n",
      "The mysterious voice turns out to be Zelda, who is the daughter of King Rhoam.\n",
      "After escaping the confines of the plateau, Link is directed to meet the wise Sheikah elder Impa, and learn about the Guardians and Divine Beasts: 10,000 years prior these machines were created and successfully used by another Hero and another Princess to defeat the Calamity Ganon.\n",
      "But throughout the ages, knowledge about the ancient technology was lost until excavations in Hyrule Kingdom brought them to light once more, coinciding with the expected return of Calamity Ganon a hundred years ago.\n",
      "The Guardians were reactivated and four Champions were chosen to control the Divine Beasts: the Zora princess Mipha, the Goron warrior Daruk, the Gerudo chief Urbosa, and the Rito archer Revali.\n",
      "All the while, Zelda was unsuccessfully trying to gain access to her own prophesied powers, accompanied on her quests by her knight, the Hylian Champion Link.\n",
      "When the Calamity Ganon ultimately attacked, it devastated the Kingdom of Hyrule Kingdom by taking control of the ancient machines and turning them against the Hyruleans.\n",
      "As a last resort, Zelda was able to place the gravely wounded Link in the Shrine of Resurrection and use her awoken sealing powers to trap herself with Calamity Ganon in Hyrule Castle.\n",
      "As Link sets off on his quest to defeat Calamity Ganon, he is asked to investigate the fate of the Divine Beasts and their former Champions.\n",
      "His ultimate goal remains to reach the Calamity Ganon and free the trapped Zelda before the whole world is laid to waste.\n",
      "But with the entire Kingdom of Hyrule before him to explore, it is up to Link himself to decide how he wishes to fulfill his foretold role as the Hylian Champion, and to save Hyrule Kingdom.\n"
     ]
    }
   ],
   "source": [
    "for s in doc:\n",
    "    print(s)"
   ]
  },
  {
   "cell_type": "code",
   "execution_count": 7,
   "metadata": {},
   "outputs": [
    {
     "name": "stdout",
     "output_type": "stream",
     "text": [
      "NbestPrediction(text='the Great Plateau.', start_logit=1.0892349481582642, end_logit=2.761751174926758)\n",
      "NbestPrediction(text='Great Plateau.', start_logit=0.614700973033905, end_logit=2.761751174926758)\n",
      "NbestPrediction(text='Hyrule', start_logit=2.2027289867401123, end_logit=1.144582748413086)\n",
      "NbestPrediction(text='top of the Great Plateau.', start_logit=0.4541274905204773, end_logit=2.761751174926758)\n",
      "NbestPrediction(text='on top of the Great Plateau.', start_logit=-0.26858943700790405, end_logit=2.761751174926758)\n",
      "NbestPrediction(text='Plateau.', start_logit=-0.6048337817192078, end_logit=2.761751174926758)\n",
      "NbestPrediction(text='Hyrule Kingdom.', start_logit=0.8277044892311096, end_logit=0.67972332239151)\n",
      "NbestPrediction(text='looks out at Hyrule', start_logit=-1.2735297679901123, end_logit=1.144582748413086)\n",
      "NbestPrediction(text='the Shrine of Resurrection', start_logit=0.4058059751987457, end_logit=-0.6926804184913635)\n",
      "NbestPrediction(text='out at Hyrule', start_logit=-1.7621501684188843, end_logit=1.144582748413086)\n",
      "NbestPrediction(text='campfire.', start_logit=-0.34640446305274963, end_logit=-0.3617764711380005)\n",
      "NbestPrediction(text='a campfire.', start_logit=-0.6089066863059998, end_logit=-0.3617764711380005)\n",
      "NbestPrediction(text='Resurrection and looks out at Hyrule', start_logit=-2.23927903175354, end_logit=1.144582748413086)\n",
      "NbestPrediction(text='at Hyrule', start_logit=-2.3064398765563965, end_logit=1.144582748413086)\n",
      "NbestPrediction(text='Shrine of Resurrection', start_logit=-0.5308550000190735, end_logit=-0.6926804184913635)\n",
      "NbestPrediction(text='and looks out at Hyrule', start_logit=-2.462817430496216, end_logit=1.144582748413086)\n",
      "NbestPrediction(text='Hyrule Kingdom. Link leaves the Shrine', start_logit=0.8277044892311096, end_logit=-2.1626994609832764)\n",
      "NbestPrediction(text='Link leaves the Shrine of Resurrection', start_logit=-0.8561416864395142, end_logit=-0.6926804184913635)\n",
      "NbestPrediction(text='leaves the Shrine of Resurrection', start_logit=-1.0290448665618896, end_logit=-0.6926804184913635)\n",
      "NbestPrediction(text='the Shrine', start_logit=0.4058059751987457, end_logit=-2.1626994609832764)\n",
      "[0.2940089511384585, 0.18292500092010103, 0.17767140856352728, 0.15578903547005898, 0.07562491767521544, 0.05403010996147851, 0.028220591357349056, 0.005494112532497859, 0.0046914872663422645, 0.00337048506373721, 0.0030785021250261395, 0.002367751883004352, 0.0020915968273946582, 0.0019557367207235885, 0.0018387549249061729, 0.0016726169030313494, 0.0016448169773982245, 0.0013281699070266386, 0.0011172818375589956, 0.001078671945163716]\n"
     ]
    }
   ],
   "source": [
    "loc_query = print_query_results(doc, 'What is a location in the story?')\n",
    "print(loc_query[1])"
   ]
  },
  {
   "cell_type": "code",
   "execution_count": 5,
   "metadata": {},
   "outputs": [
    {
     "name": "stdout",
     "output_type": "stream",
     "text": [
      "NbestPrediction(text='an Old Man', start_logit=3.177995204925537, end_logit=2.361489772796631)\n",
      "NbestPrediction(text='Old Man', start_logit=2.5762197971343994, end_logit=2.361489772796631)\n",
      "NbestPrediction(text='Link', start_logit=2.3900978565216064, end_logit=2.171814441680908)\n",
      "NbestPrediction(text='an Old Man by a campfire.', start_logit=3.177995204925537, end_logit=1.3243460655212402)\n",
      "NbestPrediction(text='Link then meets an Old Man', start_logit=1.6854103803634644, end_logit=2.361489772796631)\n",
      "NbestPrediction(text='Old Man by a campfire.', start_logit=2.5762197971343994, end_logit=1.3243460655212402)\n",
      "NbestPrediction(text='Man', start_logit=-0.8632587790489197, end_logit=2.361489772796631)\n",
      "NbestPrediction(text='an Old', start_logit=3.177995204925537, end_logit=-2.1612749099731445)\n",
      "NbestPrediction(text='meets an Old Man', start_logit=-1.5127899646759033, end_logit=2.361489772796631)\n",
      "NbestPrediction(text='Man by a campfire.', start_logit=-0.8632587790489197, end_logit=1.3243460655212402)\n",
      "NbestPrediction(text='Old', start_logit=2.5762197971343994, end_logit=-2.1612749099731445)\n",
      "NbestPrediction(text='Link then meets an Old', start_logit=1.6854103803634644, end_logit=-2.1612749099731445)\n",
      "NbestPrediction(text='by a campfire.', start_logit=-2.192833662033081, end_logit=1.3243460655212402)\n",
      "NbestPrediction(text='campfire.', start_logit=-2.3478713035583496, end_logit=1.3243460655212402)\n",
      "NbestPrediction(text='Link awakens from a deep slumber', start_logit=2.3900978565216064, end_logit=-4.083853721618652)\n",
      "NbestPrediction(text='Hyrule Kingdom. Link', start_logit=-2.918816566467285, end_logit=0.7273911237716675)\n",
      "NbestPrediction(text='Link then meets', start_logit=1.6854103803634644, end_logit=-4.247406005859375)\n",
      "NbestPrediction(text='Link then meets an', start_logit=1.6854103803634644, end_logit=-4.267326354980469)\n",
      "NbestPrediction(text='Link leaves the Shrine of Resurrection', start_logit=1.087045431137085, end_logit=-3.8544788360595703)\n",
      "NbestPrediction(text='meets an Old', start_logit=-1.5127899646759033, end_logit=-2.1612749099731445)\n",
      "[0.362988355834374, 0.19885886427719937, 0.13656464286673306, 0.12866691989410803, 0.08159646431816199, 0.0704886455692878, 0.00637967255380546, 0.003941676235781389, 0.003332042857302819, 0.0022613750668235466, 0.002159400562021241, 0.0008860527869754493, 0.0005983365934529004, 0.000512405251798659, 0.00026214169870694497, 0.00015936793965435665, 0.00011001815877303934, 0.00010784824313423956, 8.958676997025306e-05, 3.618252193529979e-05]\n"
     ]
    }
   ],
   "source": [
    "char_query = print_query_results(doc, 'Who is somebody in the story?')\n",
    "print(char_query[1])"
   ]
  },
  {
   "cell_type": "code",
   "execution_count": null,
   "metadata": {},
   "outputs": [],
   "source": [
    "a_query = print_query_results(doc, 'Who are in Hyrule Castle in the story?')\n",
    "print(a_query[1])"
   ]
  },
  {
   "cell_type": "code",
   "execution_count": null,
   "metadata": {},
   "outputs": [],
   "source": [
    "with open(\"../../../data/zelda-botw.txt\") as f:\n",
    "    doc = f.read()"
   ]
  },
  {
   "cell_type": "code",
   "execution_count": 7,
   "metadata": {},
   "outputs": [],
   "source": [
    "from transformers import AutoModelForQuestionAnswering, AutoTokenizer, pipeline\n",
    "\n",
    "model_name = \"deepset/roberta-base-squad2\"\n",
    "# a) Get predictions\n",
    "nlp = pipeline('question-answering', model=model_name, tokenizer=model_name)"
   ]
  },
  {
   "cell_type": "code",
   "execution_count": 15,
   "metadata": {},
   "outputs": [
    {
     "name": "stdout",
     "output_type": "stream",
     "text": [
      "{'score': 0.3392251133918762, 'start': 1172, 'end': 1177, 'answer': 'Zelda'}\n"
     ]
    }
   ],
   "source": [
    "QA_input = {\n",
    "    'question': 'Who is somebody in the story?',\n",
    "    'context': doc\n",
    "}\n",
    "res = nlp(QA_input)\n",
    "print(res)"
   ]
  },
  {
   "cell_type": "code",
   "execution_count": 17,
   "metadata": {},
   "outputs": [
    {
     "data": {
      "text/plain": [
       "{'score': 0.3392251133918762, 'start': 1172, 'end': 1177, 'answer': 'Zelda'}"
      ]
     },
     "execution_count": 17,
     "metadata": {},
     "output_type": "execute_result"
    }
   ],
   "source": [
    "res"
   ]
  },
  {
   "cell_type": "code",
   "execution_count": 18,
   "metadata": {},
   "outputs": [],
   "source": [
    "# b) Load model & tokenizer\n",
    "model = AutoModelForQuestionAnswering.from_pretrained(model_name)\n",
    "tokenizer = AutoTokenizer.from_pretrained(model_name)"
   ]
  },
  {
   "cell_type": "code",
   "execution_count": 20,
   "metadata": {},
   "outputs": [],
   "source": [
    "pt_batch = tokenizer(\n",
    "    [doc],\n",
    "    padding=True,\n",
    "    truncation=True,\n",
    "    max_length=512,\n",
    "    return_tensors=\"pt\"\n",
    ")"
   ]
  },
  {
   "cell_type": "code",
   "execution_count": 22,
   "metadata": {},
   "outputs": [],
   "source": [
    "pt_outputs = model(**pt_batch)"
   ]
  },
  {
   "cell_type": "code",
   "execution_count": 25,
   "metadata": {},
   "outputs": [
    {
     "ename": "AttributeError",
     "evalue": "'QuestionAnsweringModelOutput' object has no attribute 'softmax'",
     "output_type": "error",
     "traceback": [
      "\u001b[0;31m---------------------------------------------------------------------------\u001b[0m",
      "\u001b[0;31mAttributeError\u001b[0m                            Traceback (most recent call last)",
      "Cell \u001b[0;32mIn[25], line 3\u001b[0m\n\u001b[1;32m      1\u001b[0m \u001b[38;5;28;01mfrom\u001b[39;00m \u001b[38;5;21;01mtorch\u001b[39;00m \u001b[38;5;28;01mimport\u001b[39;00m nn\n\u001b[0;32m----> 3\u001b[0m pt_predictions \u001b[38;5;241m=\u001b[39m \u001b[43mnn\u001b[49m\u001b[38;5;241;43m.\u001b[39;49m\u001b[43mfunctional\u001b[49m\u001b[38;5;241;43m.\u001b[39;49m\u001b[43msoftmax\u001b[49m\u001b[43m(\u001b[49m\u001b[43mpt_outputs\u001b[49m\u001b[43m,\u001b[49m\u001b[43m \u001b[49m\u001b[43mdim\u001b[49m\u001b[38;5;241;43m=\u001b[39;49m\u001b[38;5;241;43m-\u001b[39;49m\u001b[38;5;241;43m1\u001b[39;49m\u001b[43m)\u001b[49m\n\u001b[1;32m      4\u001b[0m \u001b[38;5;28mprint\u001b[39m(pt_predictions)\n",
      "File \u001b[0;32m~/manish-thesis/miniconda/envs/roberta/lib/python3.11/site-packages/torch/nn/functional.py:1843\u001b[0m, in \u001b[0;36msoftmax\u001b[0;34m(input, dim, _stacklevel, dtype)\u001b[0m\n\u001b[1;32m   1841\u001b[0m     dim \u001b[38;5;241m=\u001b[39m _get_softmax_dim(\u001b[38;5;124m\"\u001b[39m\u001b[38;5;124msoftmax\u001b[39m\u001b[38;5;124m\"\u001b[39m, \u001b[38;5;28minput\u001b[39m\u001b[38;5;241m.\u001b[39mdim(), _stacklevel)\n\u001b[1;32m   1842\u001b[0m \u001b[38;5;28;01mif\u001b[39;00m dtype \u001b[38;5;129;01mis\u001b[39;00m \u001b[38;5;28;01mNone\u001b[39;00m:\n\u001b[0;32m-> 1843\u001b[0m     ret \u001b[38;5;241m=\u001b[39m \u001b[38;5;28;43minput\u001b[39;49m\u001b[38;5;241;43m.\u001b[39;49m\u001b[43msoftmax\u001b[49m(dim)\n\u001b[1;32m   1844\u001b[0m \u001b[38;5;28;01melse\u001b[39;00m:\n\u001b[1;32m   1845\u001b[0m     ret \u001b[38;5;241m=\u001b[39m \u001b[38;5;28minput\u001b[39m\u001b[38;5;241m.\u001b[39msoftmax(dim, dtype\u001b[38;5;241m=\u001b[39mdtype)\n",
      "\u001b[0;31mAttributeError\u001b[0m: 'QuestionAnsweringModelOutput' object has no attribute 'softmax'"
     ]
    }
   ],
   "source": [
    "from torch import nn\n",
    "\n",
    "pt_predictions = nn.functional.softmax(pt_outputs, dim=-1)\n",
    "print(pt_predictions)"
   ]
  }
 ],
 "metadata": {
  "kernelspec": {
   "display_name": "askBert",
   "language": "python",
   "name": "askbert"
  },
  "language_info": {
   "codemirror_mode": {
    "name": "ipython",
    "version": 3
   },
   "file_extension": ".py",
   "mimetype": "text/x-python",
   "name": "python",
   "nbconvert_exporter": "python",
   "pygments_lexer": "ipython3",
   "version": "3.7.5"
  }
 },
 "nbformat": 4,
 "nbformat_minor": 4
}
