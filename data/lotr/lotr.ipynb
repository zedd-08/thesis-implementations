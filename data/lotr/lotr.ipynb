{
 "cells": [
  {
   "cell_type": "code",
   "execution_count": 5,
   "metadata": {},
   "outputs": [],
   "source": [
    "from owlready2 import *\n",
    "\n",
    "lotr_onto = get_ontology('file:///home/manish/thesis-implementations/data/lotr/LOTROXMLOWL.owl').load()"
   ]
  },
  {
   "cell_type": "code",
   "execution_count": 10,
   "metadata": {},
   "outputs": [
    {
     "name": "stdout",
     "output_type": "stream",
     "text": [
      "[LOTROXMLOWL.Axe, LOTROXMLOWL.Bow, LOTROXMLOWL.Character, LOTROXMLOWL.Dwarf, LOTROXMLOWL.Elf, LOTROXMLOWL.Fallohide, LOTROXMLOWL.Harfoot, LOTROXMLOWL.Hobbit, LOTROXMLOWL.Human, LOTROXMLOWL.Language, LOTROXMLOWL.Maiar, LOTROXMLOWL.Name, LOTROXMLOWL.Noldor, LOTROXMLOWL.Place, LOTROXMLOWL.Ring, LOTROXMLOWL.Staff, LOTROXMLOWL.Stoor, LOTROXMLOWL.Sword, LOTROXMLOWL.Teleri, LOTROXMLOWL.Vanyar, LOTROXMLOWL.Weapon]\n"
     ]
    },
    {
     "name": "stderr",
     "output_type": "stream",
     "text": [
      "* Owlready2 * Warning: ignoring cyclic type of, involving storid 322\n",
      "\n"
     ]
    }
   ],
   "source": [
    "print(list(lotr_onto.classes()))"
   ]
  }
 ],
 "metadata": {
  "kernelspec": {
   "display_name": "data_expl",
   "language": "python",
   "name": "data_expl"
  },
  "language_info": {
   "codemirror_mode": {
    "name": "ipython",
    "version": 3
   },
   "file_extension": ".py",
   "mimetype": "text/x-python",
   "name": "python",
   "nbconvert_exporter": "python",
   "pygments_lexer": "ipython3",
   "version": "3.11.5"
  }
 },
 "nbformat": 4,
 "nbformat_minor": 2
}
